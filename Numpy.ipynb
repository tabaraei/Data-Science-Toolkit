{
  "nbformat": 4,
  "nbformat_minor": 0,
  "metadata": {
    "colab": {
      "name": "Numpy.ipynb",
      "provenance": [],
      "collapsed_sections": [],
      "authorship_tag": "ABX9TyO55oFzXVLrQnQ9pMcu/Q+l",
      "include_colab_link": true
    },
    "kernelspec": {
      "name": "python3",
      "display_name": "Python 3"
    }
  },
  "cells": [
    {
      "cell_type": "markdown",
      "metadata": {
        "id": "view-in-github",
        "colab_type": "text"
      },
      "source": [
        "<a href=\"https://colab.research.google.com/github/tabaraei/CheatSheet/blob/master/Numpy.ipynb\" target=\"_parent\"><img src=\"https://colab.research.google.com/assets/colab-badge.svg\" alt=\"Open In Colab\"/></a>"
      ]
    },
    {
      "cell_type": "code",
      "metadata": {
        "id": "SeIplL8_kNeO"
      },
      "source": [
        "import numpy as np"
      ],
      "execution_count": null,
      "outputs": []
    },
    {
      "cell_type": "markdown",
      "metadata": {
        "id": "sqpcSyO5q563"
      },
      "source": [
        "## Numpy Arrays\n",
        "1- Creating a Numpy array:"
      ]
    },
    {
      "cell_type": "code",
      "metadata": {
        "id": "p6APOg_2lVYL"
      },
      "source": [
        "A = np.array([1,2,3])\n",
        "# array([1, 2, 3])\n",
        "\n",
        "A = np.array([[1,2], [3,4]])\n",
        "# array([[1, 2],\n",
        "#        [3, 4]])"
      ],
      "execution_count": null,
      "outputs": []
    },
    {
      "cell_type": "code",
      "metadata": {
        "id": "01Cf4RiQqRTe"
      },
      "source": [
        "A = np.arange(6)\n",
        "# array([0, 1, 2, 3, 4, 5])\n",
        "\n",
        "A = np.arange(4,19,3)\n",
        "# array([ 4,  7, 10, 13, 16])\n",
        "\n",
        "A = np.arange(9).reshape(3,3)\n",
        "# array([[0, 1, 2],\n",
        "#        [3, 4, 5],\n",
        "#        [6, 7, 8]])\n",
        "\n",
        "A = A.reshape((9,))\n",
        "# array([0, 1, 2, 3, 4, 5, 6, 7, 8])"
      ],
      "execution_count": null,
      "outputs": []
    },
    {
      "cell_type": "code",
      "metadata": {
        "id": "G0z89wiFqyYr"
      },
      "source": [
        "A = np.empty((2,1))\n",
        "# array([[4.65502146e-310],\n",
        "#        [1.48219694e-323]])\n",
        "\n",
        "A = np.zeros((2,2))\n",
        "# array([[0., 0.],\n",
        "#        [0., 0.]])\n",
        "\n",
        "A = np.ones((3,2))\n",
        "# array([[1., 1.],\n",
        "#        [1., 1.],\n",
        "#        [1., 1.]])\n",
        "\n",
        "A = np.full((2,3), 9)\n",
        "# array([[9, 9, 9],\n",
        "#        [9, 9, 9]])\n",
        "\n",
        "A = np.eye(3)\n",
        "# array([[1., 0., 0.],\n",
        "#        [0., 1., 0.],\n",
        "#        [0., 0., 1.]])\n",
        "\n",
        "A = np.linspace(-4,4,5) # also check (num, endpoint) parameters\n",
        "# array([-4., -2.,  0.,  2.,  4.])\n",
        "\n",
        "# Create a Numpy array based on another array dimensions\n",
        "A = np.empty_like(A)\n",
        "A = np.zeros_like(A)\n",
        "A = np.ones_like(A)\n",
        "A = np.full_like(A,2)"
      ],
      "execution_count": null,
      "outputs": []
    },
    {
      "cell_type": "markdown",
      "metadata": {
        "id": "Z5BhPHG0stzW"
      },
      "source": [
        "2- Accessing Numpy arrays:"
      ]
    },
    {
      "cell_type": "code",
      "metadata": {
        "colab": {
          "base_uri": "https://localhost:8080/"
        },
        "id": "XE83rMsBsrj4",
        "outputId": "d1f16fec-aaa3-469c-9536-10afacb61320"
      },
      "source": [
        "A = np.arange(9).reshape(3,3)\n",
        "\n",
        "print(A)\n",
        "print('Get Element', A[1,2])\n",
        "print('Get Row:', A[0])\n",
        "print('Get Column', A[:,1])"
      ],
      "execution_count": null,
      "outputs": [
        {
          "output_type": "stream",
          "text": [
            "[[0 1 2]\n",
            " [3 4 5]\n",
            " [6 7 8]]\n",
            "Get Element 5\n",
            "Get Row: [0 1 2]\n",
            "Get Column [1 4 7]\n"
          ],
          "name": "stdout"
        }
      ]
    },
    {
      "cell_type": "markdown",
      "metadata": {
        "id": "qGubuCR_vTzL"
      },
      "source": [
        "3- Operations on Numpy arrays:"
      ]
    },
    {
      "cell_type": "code",
      "metadata": {
        "colab": {
          "base_uri": "https://localhost:8080/"
        },
        "id": "Yhe8aXmtvYOa",
        "outputId": "78ece427-089e-4710-bb14-65dde53d3ca0"
      },
      "source": [
        "A = np.array([[1,2], \n",
        "              [5,3]])\n",
        "B = np.array([[4,2], \n",
        "              [1,3]])\n",
        "\n",
        "C = A + B\n",
        "# array([[5, 4],\n",
        "      #  [6, 6]])\n",
        "\n",
        "C = A - B\n",
        "# array([[-3,  0],\n",
        "#        [ 4,  0]])\n",
        "\n",
        "C = A * B\n",
        "# array([[4, 4],\n",
        "#        [5, 9]])\n",
        "\n",
        "C = A / B\n",
        "# array([[0.25, 1.  ],\n",
        "#        [5.  , 1.  ]])\n",
        "\n",
        "C = A ** B\n",
        "# array([[ 1,  4],\n",
        "#        [ 5, 27]])\n",
        "\n",
        "C = 2*A - B + 5\n",
        "# array([[ 3,  7],\n",
        "#        [14,  8]])\n",
        "\n",
        "C = A @ B\n",
        "# array([[ 6,  8],\n",
        "#        [23, 19]])\n",
        "\n",
        "C = A.T\n",
        "# array([[1, 5],\n",
        "#        [2, 3]])"
      ],
      "execution_count": null,
      "outputs": [
        {
          "output_type": "execute_result",
          "data": {
            "text/plain": [
              "array([[1, 5],\n",
              "       [2, 3]])"
            ]
          },
          "metadata": {
            "tags": []
          },
          "execution_count": 72
        }
      ]
    },
    {
      "cell_type": "markdown",
      "metadata": {
        "id": "JhRj8yV1266J"
      },
      "source": [
        "4- Shape of Numpy arrays:"
      ]
    },
    {
      "cell_type": "code",
      "metadata": {
        "colab": {
          "base_uri": "https://localhost:8080/"
        },
        "id": "vdHNTV-u29on",
        "outputId": "015e1078-5502-43ed-b42a-e757321e507a"
      },
      "source": [
        "A = np.ones(3)\n",
        "print('Taking the transpose of a 1D array has NO effect')\n",
        "print(A)\n",
        "print(A.shape)\n",
        "print(A.T)\n",
        "print(A.T.shape)\n",
        "\n",
        "print('But it does work if you have a 2D array of shape (3,1)')\n",
        "A = np.ones((3,1)) # A = np.ones(3).reshape(-1,1)\n",
        "print(A)\n",
        "print(A.shape)\n",
        "print(A.T)\n",
        "print(A.T.shape)"
      ],
      "execution_count": 1,
      "outputs": [
        {
          "output_type": "stream",
          "text": [
            "Taking the transpose of a 1D array has NO effect\n",
            "[1. 1. 1.]\n",
            "(3,)\n",
            "[1. 1. 1.]\n",
            "(3,)\n",
            "But it does work if you have a 2D array of shape (3,1)\n",
            "[[1.]\n",
            " [1.]\n",
            " [1.]]\n",
            "(3, 1)\n",
            "[[1. 1. 1.]]\n",
            "(1, 3)\n"
          ],
          "name": "stdout"
        }
      ]
    },
    {
      "cell_type": "code",
      "metadata": {
        "colab": {
          "base_uri": "https://localhost:8080/"
        },
        "id": "WUPJJfG21Kh0",
        "outputId": "9707014d-bc75-47bc-abe1-3b0c4ea81ec3"
      },
      "source": [
        "%time 2+2\n",
        "help(np.array)"
      ],
      "execution_count": null,
      "outputs": [
        {
          "output_type": "stream",
          "text": [
            "CPU times: user 4 µs, sys: 0 ns, total: 4 µs\n",
            "Wall time: 9.54 µs\n"
          ],
          "name": "stdout"
        },
        {
          "output_type": "execute_result",
          "data": {
            "text/plain": [
              "4"
            ]
          },
          "metadata": {
            "tags": []
          },
          "execution_count": 69
        }
      ]
    },
    {
      "cell_type": "code",
      "metadata": {
        "id": "mHBy1CcBvUsu"
      },
      "source": [
        "# SHOULD ORGANIZE LATER\n",
        "\n",
        "reshape\n",
        "flatten\n",
        "\n",
        "array = [[1,2],[3,4]] \n",
        "print(np.linalg.det(array))\n",
        "\n",
        "f = np.array([1,2])\n",
        "g = np.array([4,5])\n",
        "print(np.dot(f,g))\n",
        "\n",
        "h = [[1,2],[3,4]] \n",
        "i = [[5,6],[7,8]]\n",
        "print(np.matmul(h, i))\n",
        "\n",
        "array = np.array( [1,2,3,4] )\n",
        "print(np.min(array))\n",
        "print(np.max(array))\n",
        "print(np.mean(array))\n",
        "print(np.median(array))\n",
        "print(np.std(array))\n",
        "\n",
        "f = np.array([1,2,3])\n",
        "g = np.array([4,5,6])\n",
        "print(np.hstack((f, g)))\n",
        "print()\n",
        "print(np.vstack((f, g)))\n",
        "\n",
        "array = np.array([[1, 2, 3], [4, 5, 6]])\n",
        "array[1]=2\n",
        "print(array)\n",
        "\n",
        "random_array = np.random.random((2,3))\n",
        "print(random_array)"
      ],
      "execution_count": null,
      "outputs": []
    }
  ]
}