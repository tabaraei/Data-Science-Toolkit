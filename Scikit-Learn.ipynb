{
  "nbformat": 4,
  "nbformat_minor": 0,
  "metadata": {
    "colab": {
      "name": "Scikit-Learn.ipynb",
      "provenance": [],
      "include_colab_link": true
    },
    "kernelspec": {
      "name": "python3",
      "display_name": "Python 3"
    },
    "language_info": {
      "name": "python"
    }
  },
  "cells": [
    {
      "cell_type": "markdown",
      "metadata": {
        "id": "view-in-github",
        "colab_type": "text"
      },
      "source": [
        "<a href=\"https://colab.research.google.com/github/tabaraei/Data-Science-Toolkit/blob/master/Scikit-Learn.ipynb\" target=\"_parent\"><img src=\"https://colab.research.google.com/assets/colab-badge.svg\" alt=\"Open In Colab\"/></a>"
      ]
    },
    {
      "cell_type": "markdown",
      "metadata": {
        "id": "hyCpDXUw3POZ"
      },
      "source": [
        "## Setup the enivironment"
      ]
    },
    {
      "cell_type": "markdown",
      "metadata": {
        "id": "2aC6IwKz4Gt8"
      },
      "source": [
        "Please ensure that you have the latest scikit-learn version.\n",
        "Run `!pip install --upgrade scikit-learn` if necessary."
      ]
    },
    {
      "cell_type": "code",
      "metadata": {
        "id": "RV7TGbPL3T2K",
        "colab": {
          "base_uri": "https://localhost:8080/"
        },
        "outputId": "e6150565-430d-468b-f32c-5ed7775aa78a"
      },
      "source": [
        "# restart runtime after running the following command\n",
        "!pip install --upgrade scikit-learn"
      ],
      "execution_count": null,
      "outputs": [
        {
          "output_type": "stream",
          "name": "stdout",
          "text": [
            "Requirement already satisfied: scikit-learn in /usr/local/lib/python3.7/dist-packages (0.24.2)\n",
            "Requirement already satisfied: joblib>=0.11 in /usr/local/lib/python3.7/dist-packages (from scikit-learn) (1.0.1)\n",
            "Requirement already satisfied: threadpoolctl>=2.0.0 in /usr/local/lib/python3.7/dist-packages (from scikit-learn) (2.2.0)\n",
            "Requirement already satisfied: scipy>=0.19.1 in /usr/local/lib/python3.7/dist-packages (from scikit-learn) (1.4.1)\n",
            "Requirement already satisfied: numpy>=1.13.3 in /usr/local/lib/python3.7/dist-packages (from scikit-learn) (1.19.5)\n"
          ]
        }
      ]
    },
    {
      "cell_type": "code",
      "metadata": {
        "id": "bFS5hPszFXFH"
      },
      "source": [
        "import pandas as pd\n",
        "import numpy as np"
      ],
      "execution_count": null,
      "outputs": []
    },
    {
      "cell_type": "markdown",
      "metadata": {
        "id": "wQXkS0eTnF2D"
      },
      "source": [
        "## Data configuration"
      ]
    },
    {
      "cell_type": "markdown",
      "metadata": {
        "id": "uFphJUCwXdn_"
      },
      "source": [
        "### 1- Load the dataset"
      ]
    },
    {
      "cell_type": "markdown",
      "metadata": {
        "id": "k9s4aPrdPfm7"
      },
      "source": [
        "#### 1-1- Regression data:"
      ]
    },
    {
      "cell_type": "code",
      "metadata": {
        "id": "_NZBnEl7GrfA",
        "colab": {
          "base_uri": "https://localhost:8080/"
        },
        "outputId": "5f286d74-d0db-4667-b4e4-9db2ee69c664"
      },
      "source": [
        "from sklearn.datasets import load_diabetes\n",
        "\n",
        "reg_dataframe = load_diabetes(as_frame=True).frame\n",
        "reg_dataframe.head(3)"
      ],
      "execution_count": null,
      "outputs": [
        {
          "output_type": "execute_result",
          "data": {
            "text/html": [
              "<div>\n",
              "<style scoped>\n",
              "    .dataframe tbody tr th:only-of-type {\n",
              "        vertical-align: middle;\n",
              "    }\n",
              "\n",
              "    .dataframe tbody tr th {\n",
              "        vertical-align: top;\n",
              "    }\n",
              "\n",
              "    .dataframe thead th {\n",
              "        text-align: right;\n",
              "    }\n",
              "</style>\n",
              "<table border=\"1\" class=\"dataframe\">\n",
              "  <thead>\n",
              "    <tr style=\"text-align: right;\">\n",
              "      <th></th>\n",
              "      <th>age</th>\n",
              "      <th>sex</th>\n",
              "      <th>bmi</th>\n",
              "      <th>bp</th>\n",
              "      <th>s1</th>\n",
              "      <th>s2</th>\n",
              "      <th>s3</th>\n",
              "      <th>s4</th>\n",
              "      <th>s5</th>\n",
              "      <th>s6</th>\n",
              "      <th>target</th>\n",
              "    </tr>\n",
              "  </thead>\n",
              "  <tbody>\n",
              "    <tr>\n",
              "      <th>0</th>\n",
              "      <td>0.038076</td>\n",
              "      <td>0.050680</td>\n",
              "      <td>0.061696</td>\n",
              "      <td>0.021872</td>\n",
              "      <td>-0.044223</td>\n",
              "      <td>-0.034821</td>\n",
              "      <td>-0.043401</td>\n",
              "      <td>-0.002592</td>\n",
              "      <td>0.019908</td>\n",
              "      <td>-0.017646</td>\n",
              "      <td>151.0</td>\n",
              "    </tr>\n",
              "    <tr>\n",
              "      <th>1</th>\n",
              "      <td>-0.001882</td>\n",
              "      <td>-0.044642</td>\n",
              "      <td>-0.051474</td>\n",
              "      <td>-0.026328</td>\n",
              "      <td>-0.008449</td>\n",
              "      <td>-0.019163</td>\n",
              "      <td>0.074412</td>\n",
              "      <td>-0.039493</td>\n",
              "      <td>-0.068330</td>\n",
              "      <td>-0.092204</td>\n",
              "      <td>75.0</td>\n",
              "    </tr>\n",
              "    <tr>\n",
              "      <th>2</th>\n",
              "      <td>0.085299</td>\n",
              "      <td>0.050680</td>\n",
              "      <td>0.044451</td>\n",
              "      <td>-0.005671</td>\n",
              "      <td>-0.045599</td>\n",
              "      <td>-0.034194</td>\n",
              "      <td>-0.032356</td>\n",
              "      <td>-0.002592</td>\n",
              "      <td>0.002864</td>\n",
              "      <td>-0.025930</td>\n",
              "      <td>141.0</td>\n",
              "    </tr>\n",
              "  </tbody>\n",
              "</table>\n",
              "</div>"
            ],
            "text/plain": [
              "        age       sex       bmi        bp  ...        s4        s5        s6  target\n",
              "0  0.038076  0.050680  0.061696  0.021872  ... -0.002592  0.019908 -0.017646   151.0\n",
              "1 -0.001882 -0.044642 -0.051474 -0.026328  ... -0.039493 -0.068330 -0.092204    75.0\n",
              "2  0.085299  0.050680  0.044451 -0.005671  ... -0.002592  0.002864 -0.025930   141.0\n",
              "\n",
              "[3 rows x 11 columns]"
            ]
          },
          "metadata": {},
          "execution_count": 3
        }
      ]
    },
    {
      "cell_type": "markdown",
      "metadata": {
        "id": "TZwic34NPRel"
      },
      "source": [
        "#### 1-2- Classification data"
      ]
    },
    {
      "cell_type": "code",
      "metadata": {
        "id": "ZM9xRrLVPEVp",
        "colab": {
          "base_uri": "https://localhost:8080/"
        },
        "outputId": "477f9a73-00b8-44f8-c517-69396d9c134d"
      },
      "source": [
        "from sklearn.datasets import fetch_openml\n",
        "\n",
        "cls_dataframe = fetch_openml(name='adult', version=2, as_frame=True).frame\n",
        "cls_dataframe.head(3)"
      ],
      "execution_count": null,
      "outputs": [
        {
          "output_type": "execute_result",
          "data": {
            "text/html": [
              "<div>\n",
              "<style scoped>\n",
              "    .dataframe tbody tr th:only-of-type {\n",
              "        vertical-align: middle;\n",
              "    }\n",
              "\n",
              "    .dataframe tbody tr th {\n",
              "        vertical-align: top;\n",
              "    }\n",
              "\n",
              "    .dataframe thead th {\n",
              "        text-align: right;\n",
              "    }\n",
              "</style>\n",
              "<table border=\"1\" class=\"dataframe\">\n",
              "  <thead>\n",
              "    <tr style=\"text-align: right;\">\n",
              "      <th></th>\n",
              "      <th>age</th>\n",
              "      <th>workclass</th>\n",
              "      <th>fnlwgt</th>\n",
              "      <th>education</th>\n",
              "      <th>education-num</th>\n",
              "      <th>marital-status</th>\n",
              "      <th>occupation</th>\n",
              "      <th>relationship</th>\n",
              "      <th>race</th>\n",
              "      <th>sex</th>\n",
              "      <th>capital-gain</th>\n",
              "      <th>capital-loss</th>\n",
              "      <th>hours-per-week</th>\n",
              "      <th>native-country</th>\n",
              "      <th>class</th>\n",
              "    </tr>\n",
              "  </thead>\n",
              "  <tbody>\n",
              "    <tr>\n",
              "      <th>0</th>\n",
              "      <td>25.0</td>\n",
              "      <td>Private</td>\n",
              "      <td>226802.0</td>\n",
              "      <td>11th</td>\n",
              "      <td>7.0</td>\n",
              "      <td>Never-married</td>\n",
              "      <td>Machine-op-inspct</td>\n",
              "      <td>Own-child</td>\n",
              "      <td>Black</td>\n",
              "      <td>Male</td>\n",
              "      <td>0.0</td>\n",
              "      <td>0.0</td>\n",
              "      <td>40.0</td>\n",
              "      <td>United-States</td>\n",
              "      <td>&lt;=50K</td>\n",
              "    </tr>\n",
              "    <tr>\n",
              "      <th>1</th>\n",
              "      <td>38.0</td>\n",
              "      <td>Private</td>\n",
              "      <td>89814.0</td>\n",
              "      <td>HS-grad</td>\n",
              "      <td>9.0</td>\n",
              "      <td>Married-civ-spouse</td>\n",
              "      <td>Farming-fishing</td>\n",
              "      <td>Husband</td>\n",
              "      <td>White</td>\n",
              "      <td>Male</td>\n",
              "      <td>0.0</td>\n",
              "      <td>0.0</td>\n",
              "      <td>50.0</td>\n",
              "      <td>United-States</td>\n",
              "      <td>&lt;=50K</td>\n",
              "    </tr>\n",
              "    <tr>\n",
              "      <th>2</th>\n",
              "      <td>28.0</td>\n",
              "      <td>Local-gov</td>\n",
              "      <td>336951.0</td>\n",
              "      <td>Assoc-acdm</td>\n",
              "      <td>12.0</td>\n",
              "      <td>Married-civ-spouse</td>\n",
              "      <td>Protective-serv</td>\n",
              "      <td>Husband</td>\n",
              "      <td>White</td>\n",
              "      <td>Male</td>\n",
              "      <td>0.0</td>\n",
              "      <td>0.0</td>\n",
              "      <td>40.0</td>\n",
              "      <td>United-States</td>\n",
              "      <td>&gt;50K</td>\n",
              "    </tr>\n",
              "  </tbody>\n",
              "</table>\n",
              "</div>"
            ],
            "text/plain": [
              "    age  workclass    fnlwgt  ... hours-per-week  native-country  class\n",
              "0  25.0    Private  226802.0  ...           40.0   United-States  <=50K\n",
              "1  38.0    Private   89814.0  ...           50.0   United-States  <=50K\n",
              "2  28.0  Local-gov  336951.0  ...           40.0   United-States   >50K\n",
              "\n",
              "[3 rows x 15 columns]"
            ]
          },
          "metadata": {},
          "execution_count": 4
        }
      ]
    },
    {
      "cell_type": "markdown",
      "metadata": {
        "id": "sGuB50-63j5S"
      },
      "source": [
        "### 2- Handling missing values"
      ]
    },
    {
      "cell_type": "markdown",
      "metadata": {
        "id": "nKfBzD8bMaKD"
      },
      "source": [
        "#### 2-1- Remove rows with missing value"
      ]
    },
    {
      "cell_type": "code",
      "metadata": {
        "id": "77ZmolPuIwO3",
        "colab": {
          "base_uri": "https://localhost:8080/"
        },
        "outputId": "d9efd816-f6f4-4a9c-b3fa-3b1be888e096"
      },
      "source": [
        "print(reg_dataframe.shape, cls_dataframe.shape)\n",
        "reg_dataframe.dropna(axis=0, inplace=True)\n",
        "cls_dataframe.dropna(axis=0, inplace=True)\n",
        "print(reg_dataframe.shape, cls_dataframe.shape)"
      ],
      "execution_count": null,
      "outputs": [
        {
          "output_type": "stream",
          "name": "stdout",
          "text": [
            "(442, 11) (48842, 15)\n",
            "(442, 11) (45222, 15)\n"
          ]
        }
      ]
    },
    {
      "cell_type": "markdown",
      "metadata": {
        "id": "SE7ufmOvMlKL"
      },
      "source": [
        "#### 2-2- Remove cols with missing value"
      ]
    },
    {
      "cell_type": "code",
      "metadata": {
        "id": "cpHW96wu3tbP",
        "colab": {
          "base_uri": "https://localhost:8080/"
        },
        "outputId": "d57684ff-24f8-40bc-cf8a-9070ce2fc598"
      },
      "source": [
        "reg_cols_with_missing = [col for col in reg_dataframe.columns if reg_dataframe[col].isnull().any()]\n",
        "reg_dataframe.drop(reg_cols_with_missing, axis=1, inplace=True)\n",
        "\n",
        "cls_cols_with_missing = [col for col in cls_dataframe.columns if cls_dataframe[col].isnull().any()]\n",
        "cls_dataframe.drop(cls_cols_with_missing, axis=1, inplace=True)\n",
        "\n",
        "reg_cols_with_missing, cls_cols_with_missing"
      ],
      "execution_count": null,
      "outputs": [
        {
          "output_type": "execute_result",
          "data": {
            "text/plain": [
              "([], [])"
            ]
          },
          "metadata": {},
          "execution_count": 6
        }
      ]
    },
    {
      "cell_type": "markdown",
      "metadata": {
        "id": "mbB9Oxu9ZrlW"
      },
      "source": [
        "### 3- Train Test Split"
      ]
    },
    {
      "cell_type": "markdown",
      "metadata": {
        "id": "BkeZeSbgTd2v"
      },
      "source": [
        "#### 3-1- Split target class from features"
      ]
    },
    {
      "cell_type": "code",
      "metadata": {
        "id": "iTuDvqvMJfqk"
      },
      "source": [
        "y_reg = reg_dataframe['target']\n",
        "X_reg = reg_dataframe.drop(['target'], axis='columns')\n",
        "\n",
        "y_cls = cls_dataframe['class']\n",
        "X_cls = cls_dataframe.drop(['class'], axis='columns')"
      ],
      "execution_count": null,
      "outputs": []
    },
    {
      "cell_type": "markdown",
      "metadata": {
        "id": "uUe6nopoTpmi"
      },
      "source": [
        "#### 3-2- Split training data from test data"
      ]
    },
    {
      "cell_type": "code",
      "metadata": {
        "id": "-lO7XaTb3CuQ"
      },
      "source": [
        "from sklearn.model_selection import train_test_split\n",
        "\n",
        "X_train_reg, X_test_reg, y_train_reg, y_test_reg = \\\n",
        "    train_test_split(X_reg, y_reg, random_state=1, test_size=0.1)\n",
        "\n",
        "X_train_cls, X_test_cls, y_train_cls, y_test_cls = \\\n",
        "    train_test_split(X_cls, y_cls, random_state=1, test_size=0.1)"
      ],
      "execution_count": null,
      "outputs": []
    },
    {
      "cell_type": "markdown",
      "metadata": {
        "id": "MoYcXXAETzYB"
      },
      "source": [
        "#### 3-3- Prevent from SettingWithCopyWarning"
      ]
    },
    {
      "cell_type": "code",
      "metadata": {
        "id": "Cdsls0ooSvm5"
      },
      "source": [
        "X_train_reg, X_test_reg, y_train_reg, y_test_reg = \\\n",
        "    X_train_reg.copy(), X_test_reg.copy(), y_train_reg.copy(), y_test_reg.copy()\n",
        "\n",
        "X_train_cls, X_test_cls, y_train_cls, y_test_cls = \\\n",
        "    X_train_cls.copy(), X_test_cls.copy(), y_train_cls.copy(), y_test_cls.copy()"
      ],
      "execution_count": null,
      "outputs": []
    },
    {
      "cell_type": "markdown",
      "metadata": {
        "id": "2vb6Y63cosYk"
      },
      "source": [
        "## Preprocessing"
      ]
    },
    {
      "cell_type": "markdown",
      "metadata": {
        "id": "w6o9Ai91SMOX"
      },
      "source": [
        "### 1- Handling categorical features"
      ]
    },
    {
      "cell_type": "code",
      "metadata": {
        "id": "dAVuLjKkS0Q7",
        "colab": {
          "base_uri": "https://localhost:8080/"
        },
        "outputId": "a50b00db-c887-4447-c1c4-3924a622179f"
      },
      "source": [
        "categories = X_train_cls.select_dtypes(include='category')\n",
        "low_cardinality_cols = [col for col in X_train_cls.columns if X_train_cls[col].nunique() < 7]\n",
        "high_cardinality_cols = list(set(categories) - set(low_cardinality_cols))\n",
        "\n",
        "low_cardinality_cols, high_cardinality_cols"
      ],
      "execution_count": null,
      "outputs": [
        {
          "output_type": "execute_result",
          "data": {
            "text/plain": [
              "(['relationship', 'race', 'sex'],\n",
              " ['workclass', 'education', 'marital-status', 'native-country', 'occupation'])"
            ]
          },
          "metadata": {},
          "execution_count": 10
        }
      ]
    },
    {
      "cell_type": "markdown",
      "metadata": {
        "id": "Fzt04xH4SVA2"
      },
      "source": [
        "#### 1-1- Ordinal Encoder"
      ]
    },
    {
      "cell_type": "code",
      "metadata": {
        "id": "jTHo9Wb6Qfsj",
        "colab": {
          "base_uri": "https://localhost:8080/"
        },
        "outputId": "84b46111-98e5-4c8d-ab14-e2a0370d6f11"
      },
      "source": [
        "X_train_cls[high_cardinality_cols].head(3)"
      ],
      "execution_count": null,
      "outputs": [
        {
          "output_type": "execute_result",
          "data": {
            "text/html": [
              "<div>\n",
              "<style scoped>\n",
              "    .dataframe tbody tr th:only-of-type {\n",
              "        vertical-align: middle;\n",
              "    }\n",
              "\n",
              "    .dataframe tbody tr th {\n",
              "        vertical-align: top;\n",
              "    }\n",
              "\n",
              "    .dataframe thead th {\n",
              "        text-align: right;\n",
              "    }\n",
              "</style>\n",
              "<table border=\"1\" class=\"dataframe\">\n",
              "  <thead>\n",
              "    <tr style=\"text-align: right;\">\n",
              "      <th></th>\n",
              "      <th>workclass</th>\n",
              "      <th>education</th>\n",
              "      <th>marital-status</th>\n",
              "      <th>native-country</th>\n",
              "      <th>occupation</th>\n",
              "    </tr>\n",
              "  </thead>\n",
              "  <tbody>\n",
              "    <tr>\n",
              "      <th>917</th>\n",
              "      <td>Private</td>\n",
              "      <td>Some-college</td>\n",
              "      <td>Married-civ-spouse</td>\n",
              "      <td>United-States</td>\n",
              "      <td>Machine-op-inspct</td>\n",
              "    </tr>\n",
              "    <tr>\n",
              "      <th>28178</th>\n",
              "      <td>Private</td>\n",
              "      <td>Some-college</td>\n",
              "      <td>Married-civ-spouse</td>\n",
              "      <td>United-States</td>\n",
              "      <td>Sales</td>\n",
              "    </tr>\n",
              "    <tr>\n",
              "      <th>46975</th>\n",
              "      <td>Private</td>\n",
              "      <td>HS-grad</td>\n",
              "      <td>Married-civ-spouse</td>\n",
              "      <td>United-States</td>\n",
              "      <td>Handlers-cleaners</td>\n",
              "    </tr>\n",
              "  </tbody>\n",
              "</table>\n",
              "</div>"
            ],
            "text/plain": [
              "      workclass     education  ... native-country         occupation\n",
              "917     Private  Some-college  ...  United-States  Machine-op-inspct\n",
              "28178   Private  Some-college  ...  United-States              Sales\n",
              "46975   Private       HS-grad  ...  United-States  Handlers-cleaners\n",
              "\n",
              "[3 rows x 5 columns]"
            ]
          },
          "metadata": {},
          "execution_count": 11
        }
      ]
    },
    {
      "cell_type": "code",
      "metadata": {
        "id": "ReV0bpQCoxaw"
      },
      "source": [
        "from sklearn.preprocessing import OrdinalEncoder\n",
        "\n",
        "encoder = OrdinalEncoder()\n",
        "X_train_cls[high_cardinality_cols] = encoder.fit_transform(X_train_cls[high_cardinality_cols].copy())\n",
        "X_test_cls[high_cardinality_cols] = encoder.transform(X_test_cls[high_cardinality_cols].copy())"
      ],
      "execution_count": null,
      "outputs": []
    },
    {
      "cell_type": "code",
      "metadata": {
        "id": "mO2URDIFUfrN",
        "colab": {
          "base_uri": "https://localhost:8080/"
        },
        "outputId": "b8a6db80-e31d-4a84-bd88-4987432f32c8"
      },
      "source": [
        "X_train_cls[high_cardinality_cols].head(3)"
      ],
      "execution_count": null,
      "outputs": [
        {
          "output_type": "execute_result",
          "data": {
            "text/html": [
              "<div>\n",
              "<style scoped>\n",
              "    .dataframe tbody tr th:only-of-type {\n",
              "        vertical-align: middle;\n",
              "    }\n",
              "\n",
              "    .dataframe tbody tr th {\n",
              "        vertical-align: top;\n",
              "    }\n",
              "\n",
              "    .dataframe thead th {\n",
              "        text-align: right;\n",
              "    }\n",
              "</style>\n",
              "<table border=\"1\" class=\"dataframe\">\n",
              "  <thead>\n",
              "    <tr style=\"text-align: right;\">\n",
              "      <th></th>\n",
              "      <th>workclass</th>\n",
              "      <th>education</th>\n",
              "      <th>marital-status</th>\n",
              "      <th>native-country</th>\n",
              "      <th>occupation</th>\n",
              "    </tr>\n",
              "  </thead>\n",
              "  <tbody>\n",
              "    <tr>\n",
              "      <th>917</th>\n",
              "      <td>2.0</td>\n",
              "      <td>15.0</td>\n",
              "      <td>2.0</td>\n",
              "      <td>38.0</td>\n",
              "      <td>6.0</td>\n",
              "    </tr>\n",
              "    <tr>\n",
              "      <th>28178</th>\n",
              "      <td>2.0</td>\n",
              "      <td>15.0</td>\n",
              "      <td>2.0</td>\n",
              "      <td>38.0</td>\n",
              "      <td>11.0</td>\n",
              "    </tr>\n",
              "    <tr>\n",
              "      <th>46975</th>\n",
              "      <td>2.0</td>\n",
              "      <td>11.0</td>\n",
              "      <td>2.0</td>\n",
              "      <td>38.0</td>\n",
              "      <td>5.0</td>\n",
              "    </tr>\n",
              "  </tbody>\n",
              "</table>\n",
              "</div>"
            ],
            "text/plain": [
              "       workclass  education  marital-status  native-country  occupation\n",
              "917          2.0       15.0             2.0            38.0         6.0\n",
              "28178        2.0       15.0             2.0            38.0        11.0\n",
              "46975        2.0       11.0             2.0            38.0         5.0"
            ]
          },
          "metadata": {},
          "execution_count": 13
        }
      ]
    },
    {
      "cell_type": "markdown",
      "metadata": {
        "id": "2gGAHJUUSdJI"
      },
      "source": [
        "#### 1-2- One Hot Encoder"
      ]
    },
    {
      "cell_type": "code",
      "metadata": {
        "id": "bBb0it0LUijU",
        "colab": {
          "base_uri": "https://localhost:8080/"
        },
        "outputId": "26613c96-542f-48ba-bf5f-5815becdf399"
      },
      "source": [
        "X_train_cls[low_cardinality_cols].head(3)"
      ],
      "execution_count": null,
      "outputs": [
        {
          "output_type": "execute_result",
          "data": {
            "text/html": [
              "<div>\n",
              "<style scoped>\n",
              "    .dataframe tbody tr th:only-of-type {\n",
              "        vertical-align: middle;\n",
              "    }\n",
              "\n",
              "    .dataframe tbody tr th {\n",
              "        vertical-align: top;\n",
              "    }\n",
              "\n",
              "    .dataframe thead th {\n",
              "        text-align: right;\n",
              "    }\n",
              "</style>\n",
              "<table border=\"1\" class=\"dataframe\">\n",
              "  <thead>\n",
              "    <tr style=\"text-align: right;\">\n",
              "      <th></th>\n",
              "      <th>relationship</th>\n",
              "      <th>race</th>\n",
              "      <th>sex</th>\n",
              "    </tr>\n",
              "  </thead>\n",
              "  <tbody>\n",
              "    <tr>\n",
              "      <th>917</th>\n",
              "      <td>Husband</td>\n",
              "      <td>White</td>\n",
              "      <td>Male</td>\n",
              "    </tr>\n",
              "    <tr>\n",
              "      <th>28178</th>\n",
              "      <td>Husband</td>\n",
              "      <td>White</td>\n",
              "      <td>Male</td>\n",
              "    </tr>\n",
              "    <tr>\n",
              "      <th>46975</th>\n",
              "      <td>Husband</td>\n",
              "      <td>White</td>\n",
              "      <td>Male</td>\n",
              "    </tr>\n",
              "  </tbody>\n",
              "</table>\n",
              "</div>"
            ],
            "text/plain": [
              "      relationship   race   sex\n",
              "917        Husband  White  Male\n",
              "28178      Husband  White  Male\n",
              "46975      Husband  White  Male"
            ]
          },
          "metadata": {},
          "execution_count": 14
        }
      ]
    },
    {
      "cell_type": "code",
      "metadata": {
        "id": "USHcJvv1RbG7"
      },
      "source": [
        "from sklearn.preprocessing import OneHotEncoder\n",
        "\n",
        "# get dataframe of one-hot encoding on low cardinality columns\n",
        "encoder = OneHotEncoder(handle_unknown='ignore', sparse=False)\n",
        "one_hot_train = pd.DataFrame(encoder.fit_transform(X_train_cls[low_cardinality_cols]))\n",
        "one_hot_test = pd.DataFrame(encoder.transform(X_test_cls[low_cardinality_cols]))\n",
        "\n",
        "# fix indices of one-hot encoder before merging\n",
        "one_hot_train.index = X_train_cls.index\n",
        "one_hot_test.index = X_test_cls.index\n",
        "\n",
        "# assign column names\n",
        "one_hot_train.columns = encoder.get_feature_names()\n",
        "one_hot_test.columns = encoder.get_feature_names()\n",
        "\n",
        "# Remove categorical columns\n",
        "X_train_cls = X_train_cls.drop(low_cardinality_cols, axis=1)\n",
        "X_test_cls = X_test_cls.drop(low_cardinality_cols, axis=1)\n",
        "\n",
        "# Add one-hot encoded columns to numerical features\n",
        "X_train_cls = pd.concat([X_train_cls, one_hot_train], axis=1)\n",
        "X_test_cls = pd.concat([X_test_cls, one_hot_test], axis=1)"
      ],
      "execution_count": null,
      "outputs": []
    },
    {
      "cell_type": "code",
      "metadata": {
        "id": "U6Ohxc8EUqlA",
        "colab": {
          "base_uri": "https://localhost:8080/"
        },
        "outputId": "e73ffda7-1b45-478a-8a09-c7ceab641f22"
      },
      "source": [
        "one_hot_train.head(3)"
      ],
      "execution_count": null,
      "outputs": [
        {
          "output_type": "execute_result",
          "data": {
            "text/html": [
              "<div>\n",
              "<style scoped>\n",
              "    .dataframe tbody tr th:only-of-type {\n",
              "        vertical-align: middle;\n",
              "    }\n",
              "\n",
              "    .dataframe tbody tr th {\n",
              "        vertical-align: top;\n",
              "    }\n",
              "\n",
              "    .dataframe thead th {\n",
              "        text-align: right;\n",
              "    }\n",
              "</style>\n",
              "<table border=\"1\" class=\"dataframe\">\n",
              "  <thead>\n",
              "    <tr style=\"text-align: right;\">\n",
              "      <th></th>\n",
              "      <th>x0_Husband</th>\n",
              "      <th>x0_Not-in-family</th>\n",
              "      <th>x0_Other-relative</th>\n",
              "      <th>x0_Own-child</th>\n",
              "      <th>x0_Unmarried</th>\n",
              "      <th>x0_Wife</th>\n",
              "      <th>x1_Amer-Indian-Eskimo</th>\n",
              "      <th>x1_Asian-Pac-Islander</th>\n",
              "      <th>x1_Black</th>\n",
              "      <th>x1_Other</th>\n",
              "      <th>x1_White</th>\n",
              "      <th>x2_Female</th>\n",
              "      <th>x2_Male</th>\n",
              "    </tr>\n",
              "  </thead>\n",
              "  <tbody>\n",
              "    <tr>\n",
              "      <th>917</th>\n",
              "      <td>1.0</td>\n",
              "      <td>0.0</td>\n",
              "      <td>0.0</td>\n",
              "      <td>0.0</td>\n",
              "      <td>0.0</td>\n",
              "      <td>0.0</td>\n",
              "      <td>0.0</td>\n",
              "      <td>0.0</td>\n",
              "      <td>0.0</td>\n",
              "      <td>0.0</td>\n",
              "      <td>1.0</td>\n",
              "      <td>0.0</td>\n",
              "      <td>1.0</td>\n",
              "    </tr>\n",
              "    <tr>\n",
              "      <th>28178</th>\n",
              "      <td>1.0</td>\n",
              "      <td>0.0</td>\n",
              "      <td>0.0</td>\n",
              "      <td>0.0</td>\n",
              "      <td>0.0</td>\n",
              "      <td>0.0</td>\n",
              "      <td>0.0</td>\n",
              "      <td>0.0</td>\n",
              "      <td>0.0</td>\n",
              "      <td>0.0</td>\n",
              "      <td>1.0</td>\n",
              "      <td>0.0</td>\n",
              "      <td>1.0</td>\n",
              "    </tr>\n",
              "    <tr>\n",
              "      <th>46975</th>\n",
              "      <td>1.0</td>\n",
              "      <td>0.0</td>\n",
              "      <td>0.0</td>\n",
              "      <td>0.0</td>\n",
              "      <td>0.0</td>\n",
              "      <td>0.0</td>\n",
              "      <td>0.0</td>\n",
              "      <td>0.0</td>\n",
              "      <td>0.0</td>\n",
              "      <td>0.0</td>\n",
              "      <td>1.0</td>\n",
              "      <td>0.0</td>\n",
              "      <td>1.0</td>\n",
              "    </tr>\n",
              "  </tbody>\n",
              "</table>\n",
              "</div>"
            ],
            "text/plain": [
              "       x0_Husband  x0_Not-in-family  ...  x2_Female  x2_Male\n",
              "917           1.0               0.0  ...        0.0      1.0\n",
              "28178         1.0               0.0  ...        0.0      1.0\n",
              "46975         1.0               0.0  ...        0.0      1.0\n",
              "\n",
              "[3 rows x 13 columns]"
            ]
          },
          "metadata": {},
          "execution_count": 16
        }
      ]
    },
    {
      "cell_type": "markdown",
      "metadata": {
        "id": "aQsaD2EjYugM"
      },
      "source": [
        "#### 1-3- Remove Categorical features and replace with preprocessed ones"
      ]
    },
    {
      "cell_type": "markdown",
      "metadata": {
        "id": "TYlkN_8DZBRB"
      },
      "source": [
        "### 2- Numeric features"
      ]
    },
    {
      "cell_type": "markdown",
      "source": [
        "Using [drawdata](https://drawdata.xyz/) website, you can easily draw points on the flow, and download the corresponding `csv` file to play with."
      ],
      "metadata": {
        "id": "RS8eLbFezMj7"
      }
    },
    {
      "cell_type": "markdown",
      "source": [
        "#### Scaling"
      ],
      "metadata": {
        "id": "6skhOSkrmYe0"
      }
    },
    {
      "cell_type": "markdown",
      "source": [
        "In order to normalize the numerical columns, there are various strategies to be utilized:\n",
        "- `StandardScaler`, which standardizes features by forcing zero mean and scaling to unit variance as `z = (x - u) / s`.\n",
        "- `QuantileTransformer`, which is less affected by the outliers and better transforms the data based on quantiles.\n",
        "- TO BE ADDED: PolynomialFeatures()"
      ],
      "metadata": {
        "id": "nux5-8FWZx2G"
      }
    },
    {
      "cell_type": "code",
      "metadata": {
        "id": "t71WZIfFozsh"
      },
      "source": [
        "from sklearn.datasets import load_wine\n",
        "from sklearn.preprocessing import StandardScaler\n",
        "\n",
        "# variants of scaler can be easily substituted, such as \"QuantileTransformer\"\n",
        "scaler = StandardScaler()\n",
        "X, _ = load_wine(return_X_y=True)\n",
        "X_scaled = scaler.fit_transform(X)"
      ],
      "execution_count": 52,
      "outputs": []
    },
    {
      "cell_type": "markdown",
      "source": [
        "#### Imputer (missing values)"
      ],
      "metadata": {
        "id": "bBhmYfH6mebD"
      }
    },
    {
      "cell_type": "markdown",
      "source": [
        "Transformers for missing value imputation can be found [here](https://scikit-learn.org/stable/modules/classes.html#module-sklearn.impute). Such as:\n",
        "- `SimpleImputer`, _univariate_ imputer for completing missing values with simple strategies. Replaces missing values using a descriptive statistic (e.g. mean, median, or most frequent) along each column, or using a constant value.\n",
        "- `IterativeImputer`, _multivariate_ imputer that estimates each feature from all the others.\n",
        "- `MissingIndicator`, binary indicators for missing values.\n",
        "- `KNNImputer`, imputation for completing missing values using k-Nearest Neighbors. Each sample’s missing values are imputed using the mean value from n_neighbors nearest neighbors found in the training set (two samples are close if the features that neither is missing are close)."
      ],
      "metadata": {
        "id": "2N34jh7amiNK"
      }
    },
    {
      "cell_type": "code",
      "metadata": {
        "id": "Zd78fTHd1i_B"
      },
      "source": [
        "from sklearn.datasets import load_wine\n",
        "from sklearn.impute import SimpleImputer, KNNImputer\n",
        "\n",
        "imputer = SimpleImputer()\n",
        "X, _ = load_wine(return_X_y=True)\n",
        "X_scaled = imputer.fit_transform(X)"
      ],
      "execution_count": 51,
      "outputs": []
    },
    {
      "cell_type": "markdown",
      "metadata": {
        "id": "oHiNU2vELxcs"
      },
      "source": [
        "## Model Training"
      ]
    },
    {
      "cell_type": "markdown",
      "source": [
        "### Baseline Models"
      ],
      "metadata": {
        "id": "aCOTTwwPiszc"
      }
    },
    {
      "cell_type": "markdown",
      "source": [
        "Basically, in model prediction, we assume that we have a dataset divided into two subsets:\n",
        "- `X` is our feature set, which can contain categorical, numerical, boolean, and any type of value used in prediction\n",
        "- `y` is our target set, which defines the desired predicted values"
      ],
      "metadata": {
        "id": "FxIIMxBBEfHa"
      }
    },
    {
      "cell_type": "code",
      "source": [
        "from sklearn.datasets import load_diabetes\n",
        "from sklearn.model_selection import train_test_split\n",
        "\n",
        "X, y = load_diabetes(return_X_y=True)\n",
        "load_diabetes(as_frame=True).frame.head(3)"
      ],
      "metadata": {
        "id": "dqIk0JMuJ0ET",
        "outputId": "2d1eb408-2f90-4dd9-ed6e-5af95147e0e7",
        "colab": {
          "base_uri": "https://localhost:8080/",
          "height": 143
        }
      },
      "execution_count": null,
      "outputs": [
        {
          "output_type": "execute_result",
          "data": {
            "text/plain": [
              "        age       sex       bmi        bp        s1        s2        s3  \\\n",
              "0  0.038076  0.050680  0.061696  0.021872 -0.044223 -0.034821 -0.043401   \n",
              "1 -0.001882 -0.044642 -0.051474 -0.026328 -0.008449 -0.019163  0.074412   \n",
              "2  0.085299  0.050680  0.044451 -0.005670 -0.045599 -0.034194 -0.032356   \n",
              "\n",
              "         s4        s5        s6  target  \n",
              "0 -0.002592  0.019907 -0.017646   151.0  \n",
              "1 -0.039493 -0.068332 -0.092204    75.0  \n",
              "2 -0.002592  0.002861 -0.025930   141.0  "
            ],
            "text/html": [
              "\n",
              "  <div id=\"df-9a281aeb-edac-439c-9daa-8607480aa16f\" class=\"colab-df-container\">\n",
              "    <div>\n",
              "<style scoped>\n",
              "    .dataframe tbody tr th:only-of-type {\n",
              "        vertical-align: middle;\n",
              "    }\n",
              "\n",
              "    .dataframe tbody tr th {\n",
              "        vertical-align: top;\n",
              "    }\n",
              "\n",
              "    .dataframe thead th {\n",
              "        text-align: right;\n",
              "    }\n",
              "</style>\n",
              "<table border=\"1\" class=\"dataframe\">\n",
              "  <thead>\n",
              "    <tr style=\"text-align: right;\">\n",
              "      <th></th>\n",
              "      <th>age</th>\n",
              "      <th>sex</th>\n",
              "      <th>bmi</th>\n",
              "      <th>bp</th>\n",
              "      <th>s1</th>\n",
              "      <th>s2</th>\n",
              "      <th>s3</th>\n",
              "      <th>s4</th>\n",
              "      <th>s5</th>\n",
              "      <th>s6</th>\n",
              "      <th>target</th>\n",
              "    </tr>\n",
              "  </thead>\n",
              "  <tbody>\n",
              "    <tr>\n",
              "      <th>0</th>\n",
              "      <td>0.038076</td>\n",
              "      <td>0.050680</td>\n",
              "      <td>0.061696</td>\n",
              "      <td>0.021872</td>\n",
              "      <td>-0.044223</td>\n",
              "      <td>-0.034821</td>\n",
              "      <td>-0.043401</td>\n",
              "      <td>-0.002592</td>\n",
              "      <td>0.019907</td>\n",
              "      <td>-0.017646</td>\n",
              "      <td>151.0</td>\n",
              "    </tr>\n",
              "    <tr>\n",
              "      <th>1</th>\n",
              "      <td>-0.001882</td>\n",
              "      <td>-0.044642</td>\n",
              "      <td>-0.051474</td>\n",
              "      <td>-0.026328</td>\n",
              "      <td>-0.008449</td>\n",
              "      <td>-0.019163</td>\n",
              "      <td>0.074412</td>\n",
              "      <td>-0.039493</td>\n",
              "      <td>-0.068332</td>\n",
              "      <td>-0.092204</td>\n",
              "      <td>75.0</td>\n",
              "    </tr>\n",
              "    <tr>\n",
              "      <th>2</th>\n",
              "      <td>0.085299</td>\n",
              "      <td>0.050680</td>\n",
              "      <td>0.044451</td>\n",
              "      <td>-0.005670</td>\n",
              "      <td>-0.045599</td>\n",
              "      <td>-0.034194</td>\n",
              "      <td>-0.032356</td>\n",
              "      <td>-0.002592</td>\n",
              "      <td>0.002861</td>\n",
              "      <td>-0.025930</td>\n",
              "      <td>141.0</td>\n",
              "    </tr>\n",
              "  </tbody>\n",
              "</table>\n",
              "</div>\n",
              "    <div class=\"colab-df-buttons\">\n",
              "\n",
              "  <div class=\"colab-df-container\">\n",
              "    <button class=\"colab-df-convert\" onclick=\"convertToInteractive('df-9a281aeb-edac-439c-9daa-8607480aa16f')\"\n",
              "            title=\"Convert this dataframe to an interactive table.\"\n",
              "            style=\"display:none;\">\n",
              "\n",
              "  <svg xmlns=\"http://www.w3.org/2000/svg\" height=\"24px\" viewBox=\"0 -960 960 960\">\n",
              "    <path d=\"M120-120v-720h720v720H120Zm60-500h600v-160H180v160Zm220 220h160v-160H400v160Zm0 220h160v-160H400v160ZM180-400h160v-160H180v160Zm440 0h160v-160H620v160ZM180-180h160v-160H180v160Zm440 0h160v-160H620v160Z\"/>\n",
              "  </svg>\n",
              "    </button>\n",
              "\n",
              "  <style>\n",
              "    .colab-df-container {\n",
              "      display:flex;\n",
              "      gap: 12px;\n",
              "    }\n",
              "\n",
              "    .colab-df-convert {\n",
              "      background-color: #E8F0FE;\n",
              "      border: none;\n",
              "      border-radius: 50%;\n",
              "      cursor: pointer;\n",
              "      display: none;\n",
              "      fill: #1967D2;\n",
              "      height: 32px;\n",
              "      padding: 0 0 0 0;\n",
              "      width: 32px;\n",
              "    }\n",
              "\n",
              "    .colab-df-convert:hover {\n",
              "      background-color: #E2EBFA;\n",
              "      box-shadow: 0px 1px 2px rgba(60, 64, 67, 0.3), 0px 1px 3px 1px rgba(60, 64, 67, 0.15);\n",
              "      fill: #174EA6;\n",
              "    }\n",
              "\n",
              "    .colab-df-buttons div {\n",
              "      margin-bottom: 4px;\n",
              "    }\n",
              "\n",
              "    [theme=dark] .colab-df-convert {\n",
              "      background-color: #3B4455;\n",
              "      fill: #D2E3FC;\n",
              "    }\n",
              "\n",
              "    [theme=dark] .colab-df-convert:hover {\n",
              "      background-color: #434B5C;\n",
              "      box-shadow: 0px 1px 3px 1px rgba(0, 0, 0, 0.15);\n",
              "      filter: drop-shadow(0px 1px 2px rgba(0, 0, 0, 0.3));\n",
              "      fill: #FFFFFF;\n",
              "    }\n",
              "  </style>\n",
              "\n",
              "    <script>\n",
              "      const buttonEl =\n",
              "        document.querySelector('#df-9a281aeb-edac-439c-9daa-8607480aa16f button.colab-df-convert');\n",
              "      buttonEl.style.display =\n",
              "        google.colab.kernel.accessAllowed ? 'block' : 'none';\n",
              "\n",
              "      async function convertToInteractive(key) {\n",
              "        const element = document.querySelector('#df-9a281aeb-edac-439c-9daa-8607480aa16f');\n",
              "        const dataTable =\n",
              "          await google.colab.kernel.invokeFunction('convertToInteractive',\n",
              "                                                    [key], {});\n",
              "        if (!dataTable) return;\n",
              "\n",
              "        const docLinkHtml = 'Like what you see? Visit the ' +\n",
              "          '<a target=\"_blank\" href=https://colab.research.google.com/notebooks/data_table.ipynb>data table notebook</a>'\n",
              "          + ' to learn more about interactive tables.';\n",
              "        element.innerHTML = '';\n",
              "        dataTable['output_type'] = 'display_data';\n",
              "        await google.colab.output.renderOutput(dataTable, element);\n",
              "        const docLink = document.createElement('div');\n",
              "        docLink.innerHTML = docLinkHtml;\n",
              "        element.appendChild(docLink);\n",
              "      }\n",
              "    </script>\n",
              "  </div>\n",
              "\n",
              "\n",
              "<div id=\"df-b7877a54-067d-47ed-b079-c65f29030231\">\n",
              "  <button class=\"colab-df-quickchart\" onclick=\"quickchart('df-b7877a54-067d-47ed-b079-c65f29030231')\"\n",
              "            title=\"Suggest charts.\"\n",
              "            style=\"display:none;\">\n",
              "\n",
              "<svg xmlns=\"http://www.w3.org/2000/svg\" height=\"24px\"viewBox=\"0 0 24 24\"\n",
              "     width=\"24px\">\n",
              "    <g>\n",
              "        <path d=\"M19 3H5c-1.1 0-2 .9-2 2v14c0 1.1.9 2 2 2h14c1.1 0 2-.9 2-2V5c0-1.1-.9-2-2-2zM9 17H7v-7h2v7zm4 0h-2V7h2v10zm4 0h-2v-4h2v4z\"/>\n",
              "    </g>\n",
              "</svg>\n",
              "  </button>\n",
              "\n",
              "<style>\n",
              "  .colab-df-quickchart {\n",
              "    background-color: #E8F0FE;\n",
              "    border: none;\n",
              "    border-radius: 50%;\n",
              "    cursor: pointer;\n",
              "    display: none;\n",
              "    fill: #1967D2;\n",
              "    height: 32px;\n",
              "    padding: 0 0 0 0;\n",
              "    width: 32px;\n",
              "  }\n",
              "\n",
              "  .colab-df-quickchart:hover {\n",
              "    background-color: #E2EBFA;\n",
              "    box-shadow: 0px 1px 2px rgba(60, 64, 67, 0.3), 0px 1px 3px 1px rgba(60, 64, 67, 0.15);\n",
              "    fill: #174EA6;\n",
              "  }\n",
              "\n",
              "  [theme=dark] .colab-df-quickchart {\n",
              "    background-color: #3B4455;\n",
              "    fill: #D2E3FC;\n",
              "  }\n",
              "\n",
              "  [theme=dark] .colab-df-quickchart:hover {\n",
              "    background-color: #434B5C;\n",
              "    box-shadow: 0px 1px 3px 1px rgba(0, 0, 0, 0.15);\n",
              "    filter: drop-shadow(0px 1px 2px rgba(0, 0, 0, 0.3));\n",
              "    fill: #FFFFFF;\n",
              "  }\n",
              "</style>\n",
              "\n",
              "  <script>\n",
              "    async function quickchart(key) {\n",
              "      const charts = await google.colab.kernel.invokeFunction(\n",
              "          'suggestCharts', [key], {});\n",
              "    }\n",
              "    (() => {\n",
              "      let quickchartButtonEl =\n",
              "        document.querySelector('#df-b7877a54-067d-47ed-b079-c65f29030231 button');\n",
              "      quickchartButtonEl.style.display =\n",
              "        google.colab.kernel.accessAllowed ? 'block' : 'none';\n",
              "    })();\n",
              "  </script>\n",
              "</div>\n",
              "    </div>\n",
              "  </div>\n"
            ]
          },
          "metadata": {},
          "execution_count": 2
        }
      ]
    },
    {
      "cell_type": "markdown",
      "source": [
        "We should also consider splitting these sets into _training_ and _test_ sets, in order to divide the evaluation phase from our learning phase.\n",
        "There are several strategies to achieve this as defined [here](https://scikit-learn.org/stable/modules/classes.html#module-sklearn.model_selection), and also a nice visualization of these methods can be seen [here](https://scikit-learn.org/stable/auto_examples/model_selection/plot_cv_indices.html#sphx-glr-auto-examples-model-selection-plot-cv-indices-py). Here, we will stick to the common `train_test_split` function:"
      ],
      "metadata": {
        "id": "0LyLv-ODjvI5"
      }
    },
    {
      "cell_type": "code",
      "source": [
        "X_train, X_test, y_train, y_test = train_test_split(X, y, test_size=0.1, random_state=42)"
      ],
      "metadata": {
        "id": "qot168UQjwST"
      },
      "execution_count": null,
      "outputs": []
    },
    {
      "cell_type": "markdown",
      "source": [
        "Then, we need to create our _model object_, which can be chosen among a variety of methods for the selected task. Since the internal API of all these objects is the same, we simply train the model by `X_train` and `y_train` using `.fit(X_train, y_train)`, and we further use the model object for predictions on the _test dataset_ using `.predict(X_test)`."
      ],
      "metadata": {
        "id": "U0K076uBMV9K"
      }
    },
    {
      "cell_type": "code",
      "source": [
        "from sklearn.neighbors import KNeighborsRegressor\n",
        "from sklearn.linear_model import LinearRegression\n",
        "\n",
        "# model can be simply substituted with another model, such as \"LinearRegression\"\n",
        "model = KNeighborsRegressor()\n",
        "model.fit(X_train, y_train)\n",
        "y_pred = model.predict(X_test)\n",
        "model"
      ],
      "metadata": {
        "id": "A4_OxeAwLZlE",
        "outputId": "a1bc6d01-9e45-48cd-d764-2eeedc25da3c",
        "colab": {
          "base_uri": "https://localhost:8080/",
          "height": 74
        }
      },
      "execution_count": null,
      "outputs": [
        {
          "output_type": "execute_result",
          "data": {
            "text/plain": [
              "KNeighborsRegressor()"
            ],
            "text/html": [
              "<style>#sk-container-id-7 {color: black;background-color: white;}#sk-container-id-7 pre{padding: 0;}#sk-container-id-7 div.sk-toggleable {background-color: white;}#sk-container-id-7 label.sk-toggleable__label {cursor: pointer;display: block;width: 100%;margin-bottom: 0;padding: 0.3em;box-sizing: border-box;text-align: center;}#sk-container-id-7 label.sk-toggleable__label-arrow:before {content: \"▸\";float: left;margin-right: 0.25em;color: #696969;}#sk-container-id-7 label.sk-toggleable__label-arrow:hover:before {color: black;}#sk-container-id-7 div.sk-estimator:hover label.sk-toggleable__label-arrow:before {color: black;}#sk-container-id-7 div.sk-toggleable__content {max-height: 0;max-width: 0;overflow: hidden;text-align: left;background-color: #f0f8ff;}#sk-container-id-7 div.sk-toggleable__content pre {margin: 0.2em;color: black;border-radius: 0.25em;background-color: #f0f8ff;}#sk-container-id-7 input.sk-toggleable__control:checked~div.sk-toggleable__content {max-height: 200px;max-width: 100%;overflow: auto;}#sk-container-id-7 input.sk-toggleable__control:checked~label.sk-toggleable__label-arrow:before {content: \"▾\";}#sk-container-id-7 div.sk-estimator input.sk-toggleable__control:checked~label.sk-toggleable__label {background-color: #d4ebff;}#sk-container-id-7 div.sk-label input.sk-toggleable__control:checked~label.sk-toggleable__label {background-color: #d4ebff;}#sk-container-id-7 input.sk-hidden--visually {border: 0;clip: rect(1px 1px 1px 1px);clip: rect(1px, 1px, 1px, 1px);height: 1px;margin: -1px;overflow: hidden;padding: 0;position: absolute;width: 1px;}#sk-container-id-7 div.sk-estimator {font-family: monospace;background-color: #f0f8ff;border: 1px dotted black;border-radius: 0.25em;box-sizing: border-box;margin-bottom: 0.5em;}#sk-container-id-7 div.sk-estimator:hover {background-color: #d4ebff;}#sk-container-id-7 div.sk-parallel-item::after {content: \"\";width: 100%;border-bottom: 1px solid gray;flex-grow: 1;}#sk-container-id-7 div.sk-label:hover label.sk-toggleable__label {background-color: #d4ebff;}#sk-container-id-7 div.sk-serial::before {content: \"\";position: absolute;border-left: 1px solid gray;box-sizing: border-box;top: 0;bottom: 0;left: 50%;z-index: 0;}#sk-container-id-7 div.sk-serial {display: flex;flex-direction: column;align-items: center;background-color: white;padding-right: 0.2em;padding-left: 0.2em;position: relative;}#sk-container-id-7 div.sk-item {position: relative;z-index: 1;}#sk-container-id-7 div.sk-parallel {display: flex;align-items: stretch;justify-content: center;background-color: white;position: relative;}#sk-container-id-7 div.sk-item::before, #sk-container-id-7 div.sk-parallel-item::before {content: \"\";position: absolute;border-left: 1px solid gray;box-sizing: border-box;top: 0;bottom: 0;left: 50%;z-index: -1;}#sk-container-id-7 div.sk-parallel-item {display: flex;flex-direction: column;z-index: 1;position: relative;background-color: white;}#sk-container-id-7 div.sk-parallel-item:first-child::after {align-self: flex-end;width: 50%;}#sk-container-id-7 div.sk-parallel-item:last-child::after {align-self: flex-start;width: 50%;}#sk-container-id-7 div.sk-parallel-item:only-child::after {width: 0;}#sk-container-id-7 div.sk-dashed-wrapped {border: 1px dashed gray;margin: 0 0.4em 0.5em 0.4em;box-sizing: border-box;padding-bottom: 0.4em;background-color: white;}#sk-container-id-7 div.sk-label label {font-family: monospace;font-weight: bold;display: inline-block;line-height: 1.2em;}#sk-container-id-7 div.sk-label-container {text-align: center;}#sk-container-id-7 div.sk-container {/* jupyter's `normalize.less` sets `[hidden] { display: none; }` but bootstrap.min.css set `[hidden] { display: none !important; }` so we also need the `!important` here to be able to override the default hidden behavior on the sphinx rendered scikit-learn.org. See: https://github.com/scikit-learn/scikit-learn/issues/21755 */display: inline-block !important;position: relative;}#sk-container-id-7 div.sk-text-repr-fallback {display: none;}</style><div id=\"sk-container-id-7\" class=\"sk-top-container\"><div class=\"sk-text-repr-fallback\"><pre>KNeighborsRegressor()</pre><b>In a Jupyter environment, please rerun this cell to show the HTML representation or trust the notebook. <br />On GitHub, the HTML representation is unable to render, please try loading this page with nbviewer.org.</b></div><div class=\"sk-container\" hidden><div class=\"sk-item\"><div class=\"sk-estimator sk-toggleable\"><input class=\"sk-toggleable__control sk-hidden--visually\" id=\"sk-estimator-id-20\" type=\"checkbox\" checked><label for=\"sk-estimator-id-20\" class=\"sk-toggleable__label sk-toggleable__label-arrow\">KNeighborsRegressor</label><div class=\"sk-toggleable__content\"><pre>KNeighborsRegressor()</pre></div></div></div></div></div>"
            ]
          },
          "metadata": {},
          "execution_count": 22
        }
      ]
    },
    {
      "cell_type": "markdown",
      "source": [
        "If the model is not shown as a diagram above, consider activating the diagram display to see the visualized model."
      ],
      "metadata": {
        "id": "OeDBuH25nmlC"
      }
    },
    {
      "cell_type": "code",
      "source": [
        "from sklearn import set_config\n",
        "\n",
        "set_config(display='diagram')"
      ],
      "metadata": {
        "id": "VBv2HGfWnbBs"
      },
      "execution_count": null,
      "outputs": []
    },
    {
      "cell_type": "markdown",
      "source": [
        "### Pipeline"
      ],
      "metadata": {
        "id": "zB7Md-8yRw_O"
      }
    },
    {
      "cell_type": "markdown",
      "source": [
        "Sometimes, the prediction can be skewed in favour of some axes if our features in `X` are not normalized and they lie toward the widest range of values. It will force feature space vector along one direction, and it is necessary to follow some normalization steps to avoid this situation. In these cases, we want to expand the idea of _Model_ to a _Pipeline_ where everything inside this box is considered as the model. This notion also allows our test set to have the same preprocessing steps, and we can easily use the `.fit` and `.predict` to train our model in the pipeline. Pipeline, is a **list of tuples**, where each tuple defines the step taken in the `('name', object)` format ."
      ],
      "metadata": {
        "id": "f67kPPNrR_HY"
      }
    },
    {
      "cell_type": "code",
      "source": [
        "from sklearn.preprocessing import StandardScaler\n",
        "from sklearn.pipeline import Pipeline\n",
        "\n",
        "pipe = Pipeline([\n",
        "    ('scaling', StandardScaler()),\n",
        "    ('model', KNeighborsRegressor())\n",
        "])\n",
        "\n",
        "pipe.fit(X_train, y_train)\n",
        "y_pred = pipe.predict(X_test)\n",
        "pipe"
      ],
      "metadata": {
        "id": "2pMaS35pVxBA",
        "outputId": "ca51c457-1247-46a1-fee6-e3d392ff6eae",
        "colab": {
          "base_uri": "https://localhost:8080/",
          "height": 125
        }
      },
      "execution_count": null,
      "outputs": [
        {
          "output_type": "execute_result",
          "data": {
            "text/plain": [
              "Pipeline(steps=[('scaling', StandardScaler()),\n",
              "                ('model', KNeighborsRegressor())])"
            ],
            "text/html": [
              "<style>#sk-container-id-3 {color: black;background-color: white;}#sk-container-id-3 pre{padding: 0;}#sk-container-id-3 div.sk-toggleable {background-color: white;}#sk-container-id-3 label.sk-toggleable__label {cursor: pointer;display: block;width: 100%;margin-bottom: 0;padding: 0.3em;box-sizing: border-box;text-align: center;}#sk-container-id-3 label.sk-toggleable__label-arrow:before {content: \"▸\";float: left;margin-right: 0.25em;color: #696969;}#sk-container-id-3 label.sk-toggleable__label-arrow:hover:before {color: black;}#sk-container-id-3 div.sk-estimator:hover label.sk-toggleable__label-arrow:before {color: black;}#sk-container-id-3 div.sk-toggleable__content {max-height: 0;max-width: 0;overflow: hidden;text-align: left;background-color: #f0f8ff;}#sk-container-id-3 div.sk-toggleable__content pre {margin: 0.2em;color: black;border-radius: 0.25em;background-color: #f0f8ff;}#sk-container-id-3 input.sk-toggleable__control:checked~div.sk-toggleable__content {max-height: 200px;max-width: 100%;overflow: auto;}#sk-container-id-3 input.sk-toggleable__control:checked~label.sk-toggleable__label-arrow:before {content: \"▾\";}#sk-container-id-3 div.sk-estimator input.sk-toggleable__control:checked~label.sk-toggleable__label {background-color: #d4ebff;}#sk-container-id-3 div.sk-label input.sk-toggleable__control:checked~label.sk-toggleable__label {background-color: #d4ebff;}#sk-container-id-3 input.sk-hidden--visually {border: 0;clip: rect(1px 1px 1px 1px);clip: rect(1px, 1px, 1px, 1px);height: 1px;margin: -1px;overflow: hidden;padding: 0;position: absolute;width: 1px;}#sk-container-id-3 div.sk-estimator {font-family: monospace;background-color: #f0f8ff;border: 1px dotted black;border-radius: 0.25em;box-sizing: border-box;margin-bottom: 0.5em;}#sk-container-id-3 div.sk-estimator:hover {background-color: #d4ebff;}#sk-container-id-3 div.sk-parallel-item::after {content: \"\";width: 100%;border-bottom: 1px solid gray;flex-grow: 1;}#sk-container-id-3 div.sk-label:hover label.sk-toggleable__label {background-color: #d4ebff;}#sk-container-id-3 div.sk-serial::before {content: \"\";position: absolute;border-left: 1px solid gray;box-sizing: border-box;top: 0;bottom: 0;left: 50%;z-index: 0;}#sk-container-id-3 div.sk-serial {display: flex;flex-direction: column;align-items: center;background-color: white;padding-right: 0.2em;padding-left: 0.2em;position: relative;}#sk-container-id-3 div.sk-item {position: relative;z-index: 1;}#sk-container-id-3 div.sk-parallel {display: flex;align-items: stretch;justify-content: center;background-color: white;position: relative;}#sk-container-id-3 div.sk-item::before, #sk-container-id-3 div.sk-parallel-item::before {content: \"\";position: absolute;border-left: 1px solid gray;box-sizing: border-box;top: 0;bottom: 0;left: 50%;z-index: -1;}#sk-container-id-3 div.sk-parallel-item {display: flex;flex-direction: column;z-index: 1;position: relative;background-color: white;}#sk-container-id-3 div.sk-parallel-item:first-child::after {align-self: flex-end;width: 50%;}#sk-container-id-3 div.sk-parallel-item:last-child::after {align-self: flex-start;width: 50%;}#sk-container-id-3 div.sk-parallel-item:only-child::after {width: 0;}#sk-container-id-3 div.sk-dashed-wrapped {border: 1px dashed gray;margin: 0 0.4em 0.5em 0.4em;box-sizing: border-box;padding-bottom: 0.4em;background-color: white;}#sk-container-id-3 div.sk-label label {font-family: monospace;font-weight: bold;display: inline-block;line-height: 1.2em;}#sk-container-id-3 div.sk-label-container {text-align: center;}#sk-container-id-3 div.sk-container {/* jupyter's `normalize.less` sets `[hidden] { display: none; }` but bootstrap.min.css set `[hidden] { display: none !important; }` so we also need the `!important` here to be able to override the default hidden behavior on the sphinx rendered scikit-learn.org. See: https://github.com/scikit-learn/scikit-learn/issues/21755 */display: inline-block !important;position: relative;}#sk-container-id-3 div.sk-text-repr-fallback {display: none;}</style><div id=\"sk-container-id-3\" class=\"sk-top-container\"><div class=\"sk-text-repr-fallback\"><pre>Pipeline(steps=[(&#x27;scaling&#x27;, StandardScaler()),\n",
              "                (&#x27;model&#x27;, KNeighborsRegressor())])</pre><b>In a Jupyter environment, please rerun this cell to show the HTML representation or trust the notebook. <br />On GitHub, the HTML representation is unable to render, please try loading this page with nbviewer.org.</b></div><div class=\"sk-container\" hidden><div class=\"sk-item sk-dashed-wrapped\"><div class=\"sk-label-container\"><div class=\"sk-label sk-toggleable\"><input class=\"sk-toggleable__control sk-hidden--visually\" id=\"sk-estimator-id-5\" type=\"checkbox\" ><label for=\"sk-estimator-id-5\" class=\"sk-toggleable__label sk-toggleable__label-arrow\">Pipeline</label><div class=\"sk-toggleable__content\"><pre>Pipeline(steps=[(&#x27;scaling&#x27;, StandardScaler()),\n",
              "                (&#x27;model&#x27;, KNeighborsRegressor())])</pre></div></div></div><div class=\"sk-serial\"><div class=\"sk-item\"><div class=\"sk-estimator sk-toggleable\"><input class=\"sk-toggleable__control sk-hidden--visually\" id=\"sk-estimator-id-6\" type=\"checkbox\" ><label for=\"sk-estimator-id-6\" class=\"sk-toggleable__label sk-toggleable__label-arrow\">StandardScaler</label><div class=\"sk-toggleable__content\"><pre>StandardScaler()</pre></div></div></div><div class=\"sk-item\"><div class=\"sk-estimator sk-toggleable\"><input class=\"sk-toggleable__control sk-hidden--visually\" id=\"sk-estimator-id-7\" type=\"checkbox\" ><label for=\"sk-estimator-id-7\" class=\"sk-toggleable__label sk-toggleable__label-arrow\">KNeighborsRegressor</label><div class=\"sk-toggleable__content\"><pre>KNeighborsRegressor()</pre></div></div></div></div></div></div></div>"
            ]
          },
          "metadata": {},
          "execution_count": 8
        }
      ]
    },
    {
      "cell_type": "markdown",
      "source": [
        "### GridSearchCV"
      ],
      "metadata": {
        "id": "nqMBqPMicCom"
      }
    },
    {
      "cell_type": "markdown",
      "source": [
        "For each model, we might have to set several hyperparameters such that they best fit our data. It might be a time-consuming task to manually set and try different combinations of these parameters to find the best match. Using `GridSearchCV`, we perform a search on the defined values for our hyperparameters, while applying internal cross-validation at the same time. This method can be used with `.fit` and `.predict` as well.\n",
        "The `estimator` attribute expects a model or pipeline, and the `param_grid` attribute expects a dictionary of all the desired params to be checked according to the define values. Note that we apply this on the original `X` and `y`, since it automatically applies cross-validation. There are also another hyperparameter optimizers defined [here](https://scikit-learn.org/stable/modules/classes.html#hyper-parameter-optimizers)."
      ],
      "metadata": {
        "id": "HbkAPskjcFr4"
      }
    },
    {
      "cell_type": "code",
      "source": [
        "pipe.get_params()"
      ],
      "metadata": {
        "id": "iHJsBQzjX3EU",
        "outputId": "869effda-3a5a-423e-9dc9-8527fbee049a",
        "colab": {
          "base_uri": "https://localhost:8080/"
        }
      },
      "execution_count": null,
      "outputs": [
        {
          "output_type": "execute_result",
          "data": {
            "text/plain": [
              "{'memory': None,\n",
              " 'steps': [('scaling', StandardScaler()), ('model', KNeighborsRegressor())],\n",
              " 'verbose': False,\n",
              " 'scaling': StandardScaler(),\n",
              " 'model': KNeighborsRegressor(),\n",
              " 'scaling__copy': True,\n",
              " 'scaling__with_mean': True,\n",
              " 'scaling__with_std': True,\n",
              " 'model__algorithm': 'auto',\n",
              " 'model__leaf_size': 30,\n",
              " 'model__metric': 'minkowski',\n",
              " 'model__metric_params': None,\n",
              " 'model__n_jobs': None,\n",
              " 'model__n_neighbors': 5,\n",
              " 'model__p': 2,\n",
              " 'model__weights': 'uniform'}"
            ]
          },
          "metadata": {},
          "execution_count": 9
        }
      ]
    },
    {
      "cell_type": "code",
      "source": [
        "from sklearn.model_selection import GridSearchCV\n",
        "import pandas as pd\n",
        "\n",
        "model = GridSearchCV(\n",
        "    estimator=pipe,\n",
        "    param_grid={'model__n_neighbors': range(1,5)},\n",
        "    cv=3\n",
        ")\n",
        "model.fit(X, y)\n",
        "pd.DataFrame(model.cv_results_)"
      ],
      "metadata": {
        "id": "9P_vqqDyUtgp",
        "outputId": "3386c12b-20da-40a7-e830-6cd3ee6f856d",
        "colab": {
          "base_uri": "https://localhost:8080/",
          "height": 264
        }
      },
      "execution_count": null,
      "outputs": [
        {
          "output_type": "execute_result",
          "data": {
            "text/plain": [
              "   mean_fit_time  std_fit_time  mean_score_time  std_score_time  \\\n",
              "0       0.004440      0.002448         0.005789        0.003455   \n",
              "1       0.002546      0.000058         0.003248        0.000104   \n",
              "2       0.002581      0.000090         0.003354        0.000182   \n",
              "3       0.004172      0.002058         0.006057        0.003243   \n",
              "\n",
              "  param_model__n_neighbors                     params  split0_test_score  \\\n",
              "0                        1  {'model__n_neighbors': 1}           0.105976   \n",
              "1                        2  {'model__n_neighbors': 2}           0.268889   \n",
              "2                        3  {'model__n_neighbors': 3}           0.333057   \n",
              "3                        4  {'model__n_neighbors': 4}           0.342407   \n",
              "\n",
              "   split1_test_score  split2_test_score  mean_test_score  std_test_score  \\\n",
              "0           0.124092          -0.158523         0.023849        0.129168   \n",
              "1           0.339379           0.264563         0.290944        0.034295   \n",
              "2           0.382744           0.356899         0.357567        0.020290   \n",
              "3           0.404701           0.409910         0.385673        0.030668   \n",
              "\n",
              "   rank_test_score  \n",
              "0                4  \n",
              "1                3  \n",
              "2                2  \n",
              "3                1  "
            ],
            "text/html": [
              "\n",
              "  <div id=\"df-9ff58bdd-15b2-444f-b291-7656e097d1dd\" class=\"colab-df-container\">\n",
              "    <div>\n",
              "<style scoped>\n",
              "    .dataframe tbody tr th:only-of-type {\n",
              "        vertical-align: middle;\n",
              "    }\n",
              "\n",
              "    .dataframe tbody tr th {\n",
              "        vertical-align: top;\n",
              "    }\n",
              "\n",
              "    .dataframe thead th {\n",
              "        text-align: right;\n",
              "    }\n",
              "</style>\n",
              "<table border=\"1\" class=\"dataframe\">\n",
              "  <thead>\n",
              "    <tr style=\"text-align: right;\">\n",
              "      <th></th>\n",
              "      <th>mean_fit_time</th>\n",
              "      <th>std_fit_time</th>\n",
              "      <th>mean_score_time</th>\n",
              "      <th>std_score_time</th>\n",
              "      <th>param_model__n_neighbors</th>\n",
              "      <th>params</th>\n",
              "      <th>split0_test_score</th>\n",
              "      <th>split1_test_score</th>\n",
              "      <th>split2_test_score</th>\n",
              "      <th>mean_test_score</th>\n",
              "      <th>std_test_score</th>\n",
              "      <th>rank_test_score</th>\n",
              "    </tr>\n",
              "  </thead>\n",
              "  <tbody>\n",
              "    <tr>\n",
              "      <th>0</th>\n",
              "      <td>0.004440</td>\n",
              "      <td>0.002448</td>\n",
              "      <td>0.005789</td>\n",
              "      <td>0.003455</td>\n",
              "      <td>1</td>\n",
              "      <td>{'model__n_neighbors': 1}</td>\n",
              "      <td>0.105976</td>\n",
              "      <td>0.124092</td>\n",
              "      <td>-0.158523</td>\n",
              "      <td>0.023849</td>\n",
              "      <td>0.129168</td>\n",
              "      <td>4</td>\n",
              "    </tr>\n",
              "    <tr>\n",
              "      <th>1</th>\n",
              "      <td>0.002546</td>\n",
              "      <td>0.000058</td>\n",
              "      <td>0.003248</td>\n",
              "      <td>0.000104</td>\n",
              "      <td>2</td>\n",
              "      <td>{'model__n_neighbors': 2}</td>\n",
              "      <td>0.268889</td>\n",
              "      <td>0.339379</td>\n",
              "      <td>0.264563</td>\n",
              "      <td>0.290944</td>\n",
              "      <td>0.034295</td>\n",
              "      <td>3</td>\n",
              "    </tr>\n",
              "    <tr>\n",
              "      <th>2</th>\n",
              "      <td>0.002581</td>\n",
              "      <td>0.000090</td>\n",
              "      <td>0.003354</td>\n",
              "      <td>0.000182</td>\n",
              "      <td>3</td>\n",
              "      <td>{'model__n_neighbors': 3}</td>\n",
              "      <td>0.333057</td>\n",
              "      <td>0.382744</td>\n",
              "      <td>0.356899</td>\n",
              "      <td>0.357567</td>\n",
              "      <td>0.020290</td>\n",
              "      <td>2</td>\n",
              "    </tr>\n",
              "    <tr>\n",
              "      <th>3</th>\n",
              "      <td>0.004172</td>\n",
              "      <td>0.002058</td>\n",
              "      <td>0.006057</td>\n",
              "      <td>0.003243</td>\n",
              "      <td>4</td>\n",
              "      <td>{'model__n_neighbors': 4}</td>\n",
              "      <td>0.342407</td>\n",
              "      <td>0.404701</td>\n",
              "      <td>0.409910</td>\n",
              "      <td>0.385673</td>\n",
              "      <td>0.030668</td>\n",
              "      <td>1</td>\n",
              "    </tr>\n",
              "  </tbody>\n",
              "</table>\n",
              "</div>\n",
              "    <div class=\"colab-df-buttons\">\n",
              "\n",
              "  <div class=\"colab-df-container\">\n",
              "    <button class=\"colab-df-convert\" onclick=\"convertToInteractive('df-9ff58bdd-15b2-444f-b291-7656e097d1dd')\"\n",
              "            title=\"Convert this dataframe to an interactive table.\"\n",
              "            style=\"display:none;\">\n",
              "\n",
              "  <svg xmlns=\"http://www.w3.org/2000/svg\" height=\"24px\" viewBox=\"0 -960 960 960\">\n",
              "    <path d=\"M120-120v-720h720v720H120Zm60-500h600v-160H180v160Zm220 220h160v-160H400v160Zm0 220h160v-160H400v160ZM180-400h160v-160H180v160Zm440 0h160v-160H620v160ZM180-180h160v-160H180v160Zm440 0h160v-160H620v160Z\"/>\n",
              "  </svg>\n",
              "    </button>\n",
              "\n",
              "  <style>\n",
              "    .colab-df-container {\n",
              "      display:flex;\n",
              "      gap: 12px;\n",
              "    }\n",
              "\n",
              "    .colab-df-convert {\n",
              "      background-color: #E8F0FE;\n",
              "      border: none;\n",
              "      border-radius: 50%;\n",
              "      cursor: pointer;\n",
              "      display: none;\n",
              "      fill: #1967D2;\n",
              "      height: 32px;\n",
              "      padding: 0 0 0 0;\n",
              "      width: 32px;\n",
              "    }\n",
              "\n",
              "    .colab-df-convert:hover {\n",
              "      background-color: #E2EBFA;\n",
              "      box-shadow: 0px 1px 2px rgba(60, 64, 67, 0.3), 0px 1px 3px 1px rgba(60, 64, 67, 0.15);\n",
              "      fill: #174EA6;\n",
              "    }\n",
              "\n",
              "    .colab-df-buttons div {\n",
              "      margin-bottom: 4px;\n",
              "    }\n",
              "\n",
              "    [theme=dark] .colab-df-convert {\n",
              "      background-color: #3B4455;\n",
              "      fill: #D2E3FC;\n",
              "    }\n",
              "\n",
              "    [theme=dark] .colab-df-convert:hover {\n",
              "      background-color: #434B5C;\n",
              "      box-shadow: 0px 1px 3px 1px rgba(0, 0, 0, 0.15);\n",
              "      filter: drop-shadow(0px 1px 2px rgba(0, 0, 0, 0.3));\n",
              "      fill: #FFFFFF;\n",
              "    }\n",
              "  </style>\n",
              "\n",
              "    <script>\n",
              "      const buttonEl =\n",
              "        document.querySelector('#df-9ff58bdd-15b2-444f-b291-7656e097d1dd button.colab-df-convert');\n",
              "      buttonEl.style.display =\n",
              "        google.colab.kernel.accessAllowed ? 'block' : 'none';\n",
              "\n",
              "      async function convertToInteractive(key) {\n",
              "        const element = document.querySelector('#df-9ff58bdd-15b2-444f-b291-7656e097d1dd');\n",
              "        const dataTable =\n",
              "          await google.colab.kernel.invokeFunction('convertToInteractive',\n",
              "                                                    [key], {});\n",
              "        if (!dataTable) return;\n",
              "\n",
              "        const docLinkHtml = 'Like what you see? Visit the ' +\n",
              "          '<a target=\"_blank\" href=https://colab.research.google.com/notebooks/data_table.ipynb>data table notebook</a>'\n",
              "          + ' to learn more about interactive tables.';\n",
              "        element.innerHTML = '';\n",
              "        dataTable['output_type'] = 'display_data';\n",
              "        await google.colab.output.renderOutput(dataTable, element);\n",
              "        const docLink = document.createElement('div');\n",
              "        docLink.innerHTML = docLinkHtml;\n",
              "        element.appendChild(docLink);\n",
              "      }\n",
              "    </script>\n",
              "  </div>\n",
              "\n",
              "\n",
              "<div id=\"df-8e127056-6497-42f3-8139-a5b58ae05b50\">\n",
              "  <button class=\"colab-df-quickchart\" onclick=\"quickchart('df-8e127056-6497-42f3-8139-a5b58ae05b50')\"\n",
              "            title=\"Suggest charts.\"\n",
              "            style=\"display:none;\">\n",
              "\n",
              "<svg xmlns=\"http://www.w3.org/2000/svg\" height=\"24px\"viewBox=\"0 0 24 24\"\n",
              "     width=\"24px\">\n",
              "    <g>\n",
              "        <path d=\"M19 3H5c-1.1 0-2 .9-2 2v14c0 1.1.9 2 2 2h14c1.1 0 2-.9 2-2V5c0-1.1-.9-2-2-2zM9 17H7v-7h2v7zm4 0h-2V7h2v10zm4 0h-2v-4h2v4z\"/>\n",
              "    </g>\n",
              "</svg>\n",
              "  </button>\n",
              "\n",
              "<style>\n",
              "  .colab-df-quickchart {\n",
              "    background-color: #E8F0FE;\n",
              "    border: none;\n",
              "    border-radius: 50%;\n",
              "    cursor: pointer;\n",
              "    display: none;\n",
              "    fill: #1967D2;\n",
              "    height: 32px;\n",
              "    padding: 0 0 0 0;\n",
              "    width: 32px;\n",
              "  }\n",
              "\n",
              "  .colab-df-quickchart:hover {\n",
              "    background-color: #E2EBFA;\n",
              "    box-shadow: 0px 1px 2px rgba(60, 64, 67, 0.3), 0px 1px 3px 1px rgba(60, 64, 67, 0.15);\n",
              "    fill: #174EA6;\n",
              "  }\n",
              "\n",
              "  [theme=dark] .colab-df-quickchart {\n",
              "    background-color: #3B4455;\n",
              "    fill: #D2E3FC;\n",
              "  }\n",
              "\n",
              "  [theme=dark] .colab-df-quickchart:hover {\n",
              "    background-color: #434B5C;\n",
              "    box-shadow: 0px 1px 3px 1px rgba(0, 0, 0, 0.15);\n",
              "    filter: drop-shadow(0px 1px 2px rgba(0, 0, 0, 0.3));\n",
              "    fill: #FFFFFF;\n",
              "  }\n",
              "</style>\n",
              "\n",
              "  <script>\n",
              "    async function quickchart(key) {\n",
              "      const charts = await google.colab.kernel.invokeFunction(\n",
              "          'suggestCharts', [key], {});\n",
              "    }\n",
              "    (() => {\n",
              "      let quickchartButtonEl =\n",
              "        document.querySelector('#df-8e127056-6497-42f3-8139-a5b58ae05b50 button');\n",
              "      quickchartButtonEl.style.display =\n",
              "        google.colab.kernel.accessAllowed ? 'block' : 'none';\n",
              "    })();\n",
              "  </script>\n",
              "</div>\n",
              "    </div>\n",
              "  </div>\n"
            ]
          },
          "metadata": {},
          "execution_count": 21
        }
      ]
    },
    {
      "cell_type": "markdown",
      "source": [
        "### Evaluation"
      ],
      "metadata": {
        "id": "FYlYAmR3bE5x"
      }
    },
    {
      "cell_type": "markdown",
      "source": [
        "Using a rather simple scatter plot, we can see if there is a positive correlation between the predicted values and the desired values:"
      ],
      "metadata": {
        "id": "B_4ynWT6QuMI"
      }
    },
    {
      "cell_type": "code",
      "source": [
        "import matplotlib.pyplot as plt\n",
        "\n",
        "plt.scatter(y_pred, y_test)"
      ],
      "metadata": {
        "id": "OwPGmQvqXvTc",
        "outputId": "9532fe3d-00ee-40ac-c894-0879375363bf",
        "colab": {
          "base_uri": "https://localhost:8080/",
          "height": 447
        }
      },
      "execution_count": null,
      "outputs": [
        {
          "output_type": "execute_result",
          "data": {
            "text/plain": [
              "<matplotlib.collections.PathCollection at 0x78d093276440>"
            ]
          },
          "metadata": {},
          "execution_count": 37
        },
        {
          "output_type": "display_data",
          "data": {
            "text/plain": [
              "<Figure size 640x480 with 1 Axes>"
            ],
            "image/png": "[encoded data removed]"
          },
          "metadata": {}
        }
      ]
    },
    {
      "cell_type": "markdown",
      "metadata": {
        "id": "oyL0f83nbjvN"
      },
      "source": [
        "### 1- Regression"
      ]
    },
    {
      "cell_type": "markdown",
      "metadata": {
        "id": "zq5n1z4wgLnG"
      },
      "source": [
        "#### 1-1- Linear Regression"
      ]
    },
    {
      "cell_type": "code",
      "metadata": {
        "id": "nDd-xkOrlYLj",
        "colab": {
          "base_uri": "https://localhost:8080/",
          "height": 72
        },
        "outputId": "e8ae769e-cb63-45ab-9369-f0ea8b25b68c"
      },
      "source": [
        "from sklearn.linear_model import LinearRegression\n",
        "\n",
        "X, y = X_train_reg, y_train_reg\n",
        "clf = LinearRegression()\n",
        "clf.fit(X, y)"
      ],
      "execution_count": null,
      "outputs": [
        {
          "output_type": "execute_result",
          "data": {
            "text/html": [
              "<style>#sk-30ebbb0d-b9c5-4b6c-81db-9b477c7b9618 {color: black;background-color: white;}#sk-30ebbb0d-b9c5-4b6c-81db-9b477c7b9618 pre{padding: 0;}#sk-30ebbb0d-b9c5-4b6c-81db-9b477c7b9618 div.sk-toggleable {background-color: white;}#sk-30ebbb0d-b9c5-4b6c-81db-9b477c7b9618 label.sk-toggleable__label {cursor: pointer;display: block;width: 100%;margin-bottom: 0;padding: 0.2em 0.3em;box-sizing: border-box;text-align: center;}#sk-30ebbb0d-b9c5-4b6c-81db-9b477c7b9618 div.sk-toggleable__content {max-height: 0;max-width: 0;overflow: hidden;text-align: left;background-color: #f0f8ff;}#sk-30ebbb0d-b9c5-4b6c-81db-9b477c7b9618 div.sk-toggleable__content pre {margin: 0.2em;color: black;border-radius: 0.25em;background-color: #f0f8ff;}#sk-30ebbb0d-b9c5-4b6c-81db-9b477c7b9618 input.sk-toggleable__control:checked~div.sk-toggleable__content {max-height: 200px;max-width: 100%;overflow: auto;}#sk-30ebbb0d-b9c5-4b6c-81db-9b477c7b9618 div.sk-estimator input.sk-toggleable__control:checked~label.sk-toggleable__label {background-color: #d4ebff;}#sk-30ebbb0d-b9c5-4b6c-81db-9b477c7b9618 div.sk-label input.sk-toggleable__control:checked~label.sk-toggleable__label {background-color: #d4ebff;}#sk-30ebbb0d-b9c5-4b6c-81db-9b477c7b9618 input.sk-hidden--visually {border: 0;clip: rect(1px 1px 1px 1px);clip: rect(1px, 1px, 1px, 1px);height: 1px;margin: -1px;overflow: hidden;padding: 0;position: absolute;width: 1px;}#sk-30ebbb0d-b9c5-4b6c-81db-9b477c7b9618 div.sk-estimator {font-family: monospace;background-color: #f0f8ff;margin: 0.25em 0.25em;border: 1px dotted black;border-radius: 0.25em;box-sizing: border-box;}#sk-30ebbb0d-b9c5-4b6c-81db-9b477c7b9618 div.sk-estimator:hover {background-color: #d4ebff;}#sk-30ebbb0d-b9c5-4b6c-81db-9b477c7b9618 div.sk-parallel-item::after {content: \"\";width: 100%;border-bottom: 1px solid gray;flex-grow: 1;}#sk-30ebbb0d-b9c5-4b6c-81db-9b477c7b9618 div.sk-label:hover label.sk-toggleable__label {background-color: #d4ebff;}#sk-30ebbb0d-b9c5-4b6c-81db-9b477c7b9618 div.sk-serial::before {content: \"\";position: absolute;border-left: 1px solid gray;box-sizing: border-box;top: 2em;bottom: 0;left: 50%;}#sk-30ebbb0d-b9c5-4b6c-81db-9b477c7b9618 div.sk-serial {display: flex;flex-direction: column;align-items: center;background-color: white;}#sk-30ebbb0d-b9c5-4b6c-81db-9b477c7b9618 div.sk-item {z-index: 1;}#sk-30ebbb0d-b9c5-4b6c-81db-9b477c7b9618 div.sk-parallel {display: flex;align-items: stretch;justify-content: center;background-color: white;}#sk-30ebbb0d-b9c5-4b6c-81db-9b477c7b9618 div.sk-parallel-item {display: flex;flex-direction: column;position: relative;background-color: white;}#sk-30ebbb0d-b9c5-4b6c-81db-9b477c7b9618 div.sk-parallel-item:first-child::after {align-self: flex-end;width: 50%;}#sk-30ebbb0d-b9c5-4b6c-81db-9b477c7b9618 div.sk-parallel-item:last-child::after {align-self: flex-start;width: 50%;}#sk-30ebbb0d-b9c5-4b6c-81db-9b477c7b9618 div.sk-parallel-item:only-child::after {width: 0;}#sk-30ebbb0d-b9c5-4b6c-81db-9b477c7b9618 div.sk-dashed-wrapped {border: 1px dashed gray;margin: 0.2em;box-sizing: border-box;padding-bottom: 0.1em;background-color: white;position: relative;}#sk-30ebbb0d-b9c5-4b6c-81db-9b477c7b9618 div.sk-label label {font-family: monospace;font-weight: bold;background-color: white;display: inline-block;line-height: 1.2em;}#sk-30ebbb0d-b9c5-4b6c-81db-9b477c7b9618 div.sk-label-container {position: relative;z-index: 2;text-align: center;}#sk-30ebbb0d-b9c5-4b6c-81db-9b477c7b9618 div.sk-container {display: inline-block;position: relative;}</style><div id=\"sk-30ebbb0d-b9c5-4b6c-81db-9b477c7b9618\" class\"sk-top-container\"><div class=\"sk-container\"><div class=\"sk-item\"><div class=\"sk-estimator sk-toggleable\"><input class=\"sk-toggleable__control sk-hidden--visually\" id=\"c13c8357-c78f-453a-99fd-d019747a3434\" type=\"checkbox\" checked><label class=\"sk-toggleable__label\" for=\"c13c8357-c78f-453a-99fd-d019747a3434\">LinearRegression</label><div class=\"sk-toggleable__content\"><pre>LinearRegression()</pre></div></div></div></div></div>"
            ],
            "text/plain": [
              "LinearRegression()"
            ]
          },
          "metadata": {},
          "execution_count": 20
        }
      ]
    },
    {
      "cell_type": "markdown",
      "metadata": {
        "id": "lx60ZF_pdSNf"
      },
      "source": [
        "#### 1-2- Logistic Regression"
      ]
    },
    {
      "cell_type": "code",
      "metadata": {
        "id": "R2hfkpwndVab",
        "colab": {
          "base_uri": "https://localhost:8080/"
        },
        "outputId": "fdc13aba-1e45-4045-82f2-ce5443e2bba8"
      },
      "source": [
        "from sklearn.linear_model import LogisticRegression\n",
        "\n",
        "X, y = X_train_reg, y_train_reg\n",
        "clf = LogisticRegression(random_state=0, max_iter=1000)\n",
        "clf.fit(X, y)"
      ],
      "execution_count": null,
      "outputs": [
        {
          "output_type": "execute_result",
          "data": {
            "text/html": [
              "<style>#sk-269547c6-e671-43c6-9c0e-71b745a30ff7 {color: black;background-color: white;}#sk-269547c6-e671-43c6-9c0e-71b745a30ff7 pre{padding: 0;}#sk-269547c6-e671-43c6-9c0e-71b745a30ff7 div.sk-toggleable {background-color: white;}#sk-269547c6-e671-43c6-9c0e-71b745a30ff7 label.sk-toggleable__label {cursor: pointer;display: block;width: 100%;margin-bottom: 0;padding: 0.2em 0.3em;box-sizing: border-box;text-align: center;}#sk-269547c6-e671-43c6-9c0e-71b745a30ff7 div.sk-toggleable__content {max-height: 0;max-width: 0;overflow: hidden;text-align: left;background-color: #f0f8ff;}#sk-269547c6-e671-43c6-9c0e-71b745a30ff7 div.sk-toggleable__content pre {margin: 0.2em;color: black;border-radius: 0.25em;background-color: #f0f8ff;}#sk-269547c6-e671-43c6-9c0e-71b745a30ff7 input.sk-toggleable__control:checked~div.sk-toggleable__content {max-height: 200px;max-width: 100%;overflow: auto;}#sk-269547c6-e671-43c6-9c0e-71b745a30ff7 div.sk-estimator input.sk-toggleable__control:checked~label.sk-toggleable__label {background-color: #d4ebff;}#sk-269547c6-e671-43c6-9c0e-71b745a30ff7 div.sk-label input.sk-toggleable__control:checked~label.sk-toggleable__label {background-color: #d4ebff;}#sk-269547c6-e671-43c6-9c0e-71b745a30ff7 input.sk-hidden--visually {border: 0;clip: rect(1px 1px 1px 1px);clip: rect(1px, 1px, 1px, 1px);height: 1px;margin: -1px;overflow: hidden;padding: 0;position: absolute;width: 1px;}#sk-269547c6-e671-43c6-9c0e-71b745a30ff7 div.sk-estimator {font-family: monospace;background-color: #f0f8ff;margin: 0.25em 0.25em;border: 1px dotted black;border-radius: 0.25em;box-sizing: border-box;}#sk-269547c6-e671-43c6-9c0e-71b745a30ff7 div.sk-estimator:hover {background-color: #d4ebff;}#sk-269547c6-e671-43c6-9c0e-71b745a30ff7 div.sk-parallel-item::after {content: \"\";width: 100%;border-bottom: 1px solid gray;flex-grow: 1;}#sk-269547c6-e671-43c6-9c0e-71b745a30ff7 div.sk-label:hover label.sk-toggleable__label {background-color: #d4ebff;}#sk-269547c6-e671-43c6-9c0e-71b745a30ff7 div.sk-serial::before {content: \"\";position: absolute;border-left: 1px solid gray;box-sizing: border-box;top: 2em;bottom: 0;left: 50%;}#sk-269547c6-e671-43c6-9c0e-71b745a30ff7 div.sk-serial {display: flex;flex-direction: column;align-items: center;background-color: white;}#sk-269547c6-e671-43c6-9c0e-71b745a30ff7 div.sk-item {z-index: 1;}#sk-269547c6-e671-43c6-9c0e-71b745a30ff7 div.sk-parallel {display: flex;align-items: stretch;justify-content: center;background-color: white;}#sk-269547c6-e671-43c6-9c0e-71b745a30ff7 div.sk-parallel-item {display: flex;flex-direction: column;position: relative;background-color: white;}#sk-269547c6-e671-43c6-9c0e-71b745a30ff7 div.sk-parallel-item:first-child::after {align-self: flex-end;width: 50%;}#sk-269547c6-e671-43c6-9c0e-71b745a30ff7 div.sk-parallel-item:last-child::after {align-self: flex-start;width: 50%;}#sk-269547c6-e671-43c6-9c0e-71b745a30ff7 div.sk-parallel-item:only-child::after {width: 0;}#sk-269547c6-e671-43c6-9c0e-71b745a30ff7 div.sk-dashed-wrapped {border: 1px dashed gray;margin: 0.2em;box-sizing: border-box;padding-bottom: 0.1em;background-color: white;position: relative;}#sk-269547c6-e671-43c6-9c0e-71b745a30ff7 div.sk-label label {font-family: monospace;font-weight: bold;background-color: white;display: inline-block;line-height: 1.2em;}#sk-269547c6-e671-43c6-9c0e-71b745a30ff7 div.sk-label-container {position: relative;z-index: 2;text-align: center;}#sk-269547c6-e671-43c6-9c0e-71b745a30ff7 div.sk-container {display: inline-block;position: relative;}</style><div id=\"sk-269547c6-e671-43c6-9c0e-71b745a30ff7\" class\"sk-top-container\"><div class=\"sk-container\"><div class=\"sk-item\"><div class=\"sk-estimator sk-toggleable\"><input class=\"sk-toggleable__control sk-hidden--visually\" id=\"3b11ec81-e054-47fb-81b0-a11d7e8ec0dd\" type=\"checkbox\" checked><label class=\"sk-toggleable__label\" for=\"3b11ec81-e054-47fb-81b0-a11d7e8ec0dd\">LogisticRegression</label><div class=\"sk-toggleable__content\"><pre>LogisticRegression(max_iter=1000, random_state=0)</pre></div></div></div></div></div>"
            ],
            "text/plain": [
              "LogisticRegression(max_iter=1000, random_state=0)"
            ]
          },
          "metadata": {},
          "execution_count": 21
        }
      ]
    },
    {
      "cell_type": "markdown",
      "metadata": {
        "id": "37eunoekU1FC"
      },
      "source": [
        "#### 1-3- Random Forest Regressor"
      ]
    },
    {
      "cell_type": "code",
      "metadata": {
        "colab": {
          "base_uri": "https://localhost:8080/",
          "height": 72
        },
        "id": "wVooBKAB0BwV",
        "outputId": "efb32571-4424-44cd-90f9-cd6bfd282613"
      },
      "source": [
        "from sklearn.ensemble import RandomForestRegressor\n",
        "\n",
        "X, y = X_train_reg, y_train_reg\n",
        "clf = RandomForestRegressor(n_estimators=100, random_state=0)\n",
        "clf.fit(X, y)"
      ],
      "execution_count": null,
      "outputs": [
        {
          "output_type": "execute_result",
          "data": {
            "text/html": [
              "<style>#sk-4a56bd49-253e-4855-b2ea-39d14ad5f07d {color: black;background-color: white;}#sk-4a56bd49-253e-4855-b2ea-39d14ad5f07d pre{padding: 0;}#sk-4a56bd49-253e-4855-b2ea-39d14ad5f07d div.sk-toggleable {background-color: white;}#sk-4a56bd49-253e-4855-b2ea-39d14ad5f07d label.sk-toggleable__label {cursor: pointer;display: block;width: 100%;margin-bottom: 0;padding: 0.2em 0.3em;box-sizing: border-box;text-align: center;}#sk-4a56bd49-253e-4855-b2ea-39d14ad5f07d div.sk-toggleable__content {max-height: 0;max-width: 0;overflow: hidden;text-align: left;background-color: #f0f8ff;}#sk-4a56bd49-253e-4855-b2ea-39d14ad5f07d div.sk-toggleable__content pre {margin: 0.2em;color: black;border-radius: 0.25em;background-color: #f0f8ff;}#sk-4a56bd49-253e-4855-b2ea-39d14ad5f07d input.sk-toggleable__control:checked~div.sk-toggleable__content {max-height: 200px;max-width: 100%;overflow: auto;}#sk-4a56bd49-253e-4855-b2ea-39d14ad5f07d div.sk-estimator input.sk-toggleable__control:checked~label.sk-toggleable__label {background-color: #d4ebff;}#sk-4a56bd49-253e-4855-b2ea-39d14ad5f07d div.sk-label input.sk-toggleable__control:checked~label.sk-toggleable__label {background-color: #d4ebff;}#sk-4a56bd49-253e-4855-b2ea-39d14ad5f07d input.sk-hidden--visually {border: 0;clip: rect(1px 1px 1px 1px);clip: rect(1px, 1px, 1px, 1px);height: 1px;margin: -1px;overflow: hidden;padding: 0;position: absolute;width: 1px;}#sk-4a56bd49-253e-4855-b2ea-39d14ad5f07d div.sk-estimator {font-family: monospace;background-color: #f0f8ff;margin: 0.25em 0.25em;border: 1px dotted black;border-radius: 0.25em;box-sizing: border-box;}#sk-4a56bd49-253e-4855-b2ea-39d14ad5f07d div.sk-estimator:hover {background-color: #d4ebff;}#sk-4a56bd49-253e-4855-b2ea-39d14ad5f07d div.sk-parallel-item::after {content: \"\";width: 100%;border-bottom: 1px solid gray;flex-grow: 1;}#sk-4a56bd49-253e-4855-b2ea-39d14ad5f07d div.sk-label:hover label.sk-toggleable__label {background-color: #d4ebff;}#sk-4a56bd49-253e-4855-b2ea-39d14ad5f07d div.sk-serial::before {content: \"\";position: absolute;border-left: 1px solid gray;box-sizing: border-box;top: 2em;bottom: 0;left: 50%;}#sk-4a56bd49-253e-4855-b2ea-39d14ad5f07d div.sk-serial {display: flex;flex-direction: column;align-items: center;background-color: white;}#sk-4a56bd49-253e-4855-b2ea-39d14ad5f07d div.sk-item {z-index: 1;}#sk-4a56bd49-253e-4855-b2ea-39d14ad5f07d div.sk-parallel {display: flex;align-items: stretch;justify-content: center;background-color: white;}#sk-4a56bd49-253e-4855-b2ea-39d14ad5f07d div.sk-parallel-item {display: flex;flex-direction: column;position: relative;background-color: white;}#sk-4a56bd49-253e-4855-b2ea-39d14ad5f07d div.sk-parallel-item:first-child::after {align-self: flex-end;width: 50%;}#sk-4a56bd49-253e-4855-b2ea-39d14ad5f07d div.sk-parallel-item:last-child::after {align-self: flex-start;width: 50%;}#sk-4a56bd49-253e-4855-b2ea-39d14ad5f07d div.sk-parallel-item:only-child::after {width: 0;}#sk-4a56bd49-253e-4855-b2ea-39d14ad5f07d div.sk-dashed-wrapped {border: 1px dashed gray;margin: 0.2em;box-sizing: border-box;padding-bottom: 0.1em;background-color: white;position: relative;}#sk-4a56bd49-253e-4855-b2ea-39d14ad5f07d div.sk-label label {font-family: monospace;font-weight: bold;background-color: white;display: inline-block;line-height: 1.2em;}#sk-4a56bd49-253e-4855-b2ea-39d14ad5f07d div.sk-label-container {position: relative;z-index: 2;text-align: center;}#sk-4a56bd49-253e-4855-b2ea-39d14ad5f07d div.sk-container {display: inline-block;position: relative;}</style><div id=\"sk-4a56bd49-253e-4855-b2ea-39d14ad5f07d\" class\"sk-top-container\"><div class=\"sk-container\"><div class=\"sk-item\"><div class=\"sk-estimator sk-toggleable\"><input class=\"sk-toggleable__control sk-hidden--visually\" id=\"5b8126bb-6abd-4dd7-bb16-910ba8c52d59\" type=\"checkbox\" checked><label class=\"sk-toggleable__label\" for=\"5b8126bb-6abd-4dd7-bb16-910ba8c52d59\">RandomForestRegressor</label><div class=\"sk-toggleable__content\"><pre>RandomForestRegressor(random_state=0)</pre></div></div></div></div></div>"
            ],
            "text/plain": [
              "RandomForestRegressor(random_state=0)"
            ]
          },
          "metadata": {},
          "execution_count": 22
        }
      ]
    },
    {
      "cell_type": "markdown",
      "metadata": {
        "id": "PDI4yGi9z9r-"
      },
      "source": [
        "#### 1-3- XGBoost Regressor"
      ]
    },
    {
      "cell_type": "code",
      "metadata": {
        "colab": {
          "base_uri": "https://localhost:8080/",
          "height": 89
        },
        "id": "VZhlRk46VAF_",
        "outputId": "704d8999-aee9-4e1f-9adc-acd40bdaafd3"
      },
      "source": [
        "from xgboost import XGBRegressor\n",
        "\n",
        "X, y = X_train_reg, y_train_reg\n",
        "clf = XGBRegressor(n_estimators=500, learning_rate=0.05, n_jobs=4, random_state=0)\n",
        "clf.fit(X, y, early_stopping_rounds=5,\n",
        "             eval_set=[(X_test_reg, y_test_reg)],\n",
        "             verbose=False)"
      ],
      "execution_count": null,
      "outputs": [
        {
          "output_type": "stream",
          "name": "stdout",
          "text": [
            "[16:02:48] WARNING: /workspace/src/objective/regression_obj.cu:152: reg:linear is now deprecated in favor of reg:squarederror.\n"
          ]
        },
        {
          "output_type": "execute_result",
          "data": {
            "text/html": [
              "<style>#sk-67141124-a1e4-4a3c-8e73-dcfa2688deab {color: black;background-color: white;}#sk-67141124-a1e4-4a3c-8e73-dcfa2688deab pre{padding: 0;}#sk-67141124-a1e4-4a3c-8e73-dcfa2688deab div.sk-toggleable {background-color: white;}#sk-67141124-a1e4-4a3c-8e73-dcfa2688deab label.sk-toggleable__label {cursor: pointer;display: block;width: 100%;margin-bottom: 0;padding: 0.2em 0.3em;box-sizing: border-box;text-align: center;}#sk-67141124-a1e4-4a3c-8e73-dcfa2688deab div.sk-toggleable__content {max-height: 0;max-width: 0;overflow: hidden;text-align: left;background-color: #f0f8ff;}#sk-67141124-a1e4-4a3c-8e73-dcfa2688deab div.sk-toggleable__content pre {margin: 0.2em;color: black;border-radius: 0.25em;background-color: #f0f8ff;}#sk-67141124-a1e4-4a3c-8e73-dcfa2688deab input.sk-toggleable__control:checked~div.sk-toggleable__content {max-height: 200px;max-width: 100%;overflow: auto;}#sk-67141124-a1e4-4a3c-8e73-dcfa2688deab div.sk-estimator input.sk-toggleable__control:checked~label.sk-toggleable__label {background-color: #d4ebff;}#sk-67141124-a1e4-4a3c-8e73-dcfa2688deab div.sk-label input.sk-toggleable__control:checked~label.sk-toggleable__label {background-color: #d4ebff;}#sk-67141124-a1e4-4a3c-8e73-dcfa2688deab input.sk-hidden--visually {border: 0;clip: rect(1px 1px 1px 1px);clip: rect(1px, 1px, 1px, 1px);height: 1px;margin: -1px;overflow: hidden;padding: 0;position: absolute;width: 1px;}#sk-67141124-a1e4-4a3c-8e73-dcfa2688deab div.sk-estimator {font-family: monospace;background-color: #f0f8ff;margin: 0.25em 0.25em;border: 1px dotted black;border-radius: 0.25em;box-sizing: border-box;}#sk-67141124-a1e4-4a3c-8e73-dcfa2688deab div.sk-estimator:hover {background-color: #d4ebff;}#sk-67141124-a1e4-4a3c-8e73-dcfa2688deab div.sk-parallel-item::after {content: \"\";width: 100%;border-bottom: 1px solid gray;flex-grow: 1;}#sk-67141124-a1e4-4a3c-8e73-dcfa2688deab div.sk-label:hover label.sk-toggleable__label {background-color: #d4ebff;}#sk-67141124-a1e4-4a3c-8e73-dcfa2688deab div.sk-serial::before {content: \"\";position: absolute;border-left: 1px solid gray;box-sizing: border-box;top: 2em;bottom: 0;left: 50%;}#sk-67141124-a1e4-4a3c-8e73-dcfa2688deab div.sk-serial {display: flex;flex-direction: column;align-items: center;background-color: white;}#sk-67141124-a1e4-4a3c-8e73-dcfa2688deab div.sk-item {z-index: 1;}#sk-67141124-a1e4-4a3c-8e73-dcfa2688deab div.sk-parallel {display: flex;align-items: stretch;justify-content: center;background-color: white;}#sk-67141124-a1e4-4a3c-8e73-dcfa2688deab div.sk-parallel-item {display: flex;flex-direction: column;position: relative;background-color: white;}#sk-67141124-a1e4-4a3c-8e73-dcfa2688deab div.sk-parallel-item:first-child::after {align-self: flex-end;width: 50%;}#sk-67141124-a1e4-4a3c-8e73-dcfa2688deab div.sk-parallel-item:last-child::after {align-self: flex-start;width: 50%;}#sk-67141124-a1e4-4a3c-8e73-dcfa2688deab div.sk-parallel-item:only-child::after {width: 0;}#sk-67141124-a1e4-4a3c-8e73-dcfa2688deab div.sk-dashed-wrapped {border: 1px dashed gray;margin: 0.2em;box-sizing: border-box;padding-bottom: 0.1em;background-color: white;position: relative;}#sk-67141124-a1e4-4a3c-8e73-dcfa2688deab div.sk-label label {font-family: monospace;font-weight: bold;background-color: white;display: inline-block;line-height: 1.2em;}#sk-67141124-a1e4-4a3c-8e73-dcfa2688deab div.sk-label-container {position: relative;z-index: 2;text-align: center;}#sk-67141124-a1e4-4a3c-8e73-dcfa2688deab div.sk-container {display: inline-block;position: relative;}</style><div id=\"sk-67141124-a1e4-4a3c-8e73-dcfa2688deab\" class\"sk-top-container\"><div class=\"sk-container\"><div class=\"sk-item\"><div class=\"sk-estimator sk-toggleable\"><input class=\"sk-toggleable__control sk-hidden--visually\" id=\"ae936564-5d6f-4558-b4b5-2b9289847c2f\" type=\"checkbox\" checked><label class=\"sk-toggleable__label\" for=\"ae936564-5d6f-4558-b4b5-2b9289847c2f\">XGBRegressor</label><div class=\"sk-toggleable__content\"><pre>XGBRegressor(learning_rate=0.05, n_estimators=500, n_jobs=4)</pre></div></div></div></div></div>"
            ],
            "text/plain": [
              "XGBRegressor(learning_rate=0.05, n_estimators=500, n_jobs=4)"
            ]
          },
          "metadata": {},
          "execution_count": 23
        }
      ]
    },
    {
      "cell_type": "markdown",
      "metadata": {
        "id": "M1KSr8EwcVHP"
      },
      "source": [
        "### 2- Classification"
      ]
    },
    {
      "cell_type": "markdown",
      "metadata": {
        "id": "TR5csTrXW6N9"
      },
      "source": [
        "#### 2-1- Desicion Tree"
      ]
    },
    {
      "cell_type": "code",
      "metadata": {
        "colab": {
          "base_uri": "https://localhost:8080/"
        },
        "id": "a8nKNW-hWLSJ",
        "outputId": "dc5b7af0-8206-43ef-89c2-fad6adce4472"
      },
      "source": [
        "from sklearn.tree import DecisionTreeClassifier\n",
        "\n",
        "X, y = X_train_cls.select_dtypes(exclude='category'), y_train_cls\n",
        "clf = DecisionTreeClassifier()\n",
        "clf.fit(X, y)"
      ],
      "execution_count": null,
      "outputs": [
        {
          "output_type": "execute_result",
          "data": {
            "text/html": [
              "<style>#sk-ca0c5e12-9737-493d-bf75-584938606392 {color: black;background-color: white;}#sk-ca0c5e12-9737-493d-bf75-584938606392 pre{padding: 0;}#sk-ca0c5e12-9737-493d-bf75-584938606392 div.sk-toggleable {background-color: white;}#sk-ca0c5e12-9737-493d-bf75-584938606392 label.sk-toggleable__label {cursor: pointer;display: block;width: 100%;margin-bottom: 0;padding: 0.2em 0.3em;box-sizing: border-box;text-align: center;}#sk-ca0c5e12-9737-493d-bf75-584938606392 div.sk-toggleable__content {max-height: 0;max-width: 0;overflow: hidden;text-align: left;background-color: #f0f8ff;}#sk-ca0c5e12-9737-493d-bf75-584938606392 div.sk-toggleable__content pre {margin: 0.2em;color: black;border-radius: 0.25em;background-color: #f0f8ff;}#sk-ca0c5e12-9737-493d-bf75-584938606392 input.sk-toggleable__control:checked~div.sk-toggleable__content {max-height: 200px;max-width: 100%;overflow: auto;}#sk-ca0c5e12-9737-493d-bf75-584938606392 div.sk-estimator input.sk-toggleable__control:checked~label.sk-toggleable__label {background-color: #d4ebff;}#sk-ca0c5e12-9737-493d-bf75-584938606392 div.sk-label input.sk-toggleable__control:checked~label.sk-toggleable__label {background-color: #d4ebff;}#sk-ca0c5e12-9737-493d-bf75-584938606392 input.sk-hidden--visually {border: 0;clip: rect(1px 1px 1px 1px);clip: rect(1px, 1px, 1px, 1px);height: 1px;margin: -1px;overflow: hidden;padding: 0;position: absolute;width: 1px;}#sk-ca0c5e12-9737-493d-bf75-584938606392 div.sk-estimator {font-family: monospace;background-color: #f0f8ff;margin: 0.25em 0.25em;border: 1px dotted black;border-radius: 0.25em;box-sizing: border-box;}#sk-ca0c5e12-9737-493d-bf75-584938606392 div.sk-estimator:hover {background-color: #d4ebff;}#sk-ca0c5e12-9737-493d-bf75-584938606392 div.sk-parallel-item::after {content: \"\";width: 100%;border-bottom: 1px solid gray;flex-grow: 1;}#sk-ca0c5e12-9737-493d-bf75-584938606392 div.sk-label:hover label.sk-toggleable__label {background-color: #d4ebff;}#sk-ca0c5e12-9737-493d-bf75-584938606392 div.sk-serial::before {content: \"\";position: absolute;border-left: 1px solid gray;box-sizing: border-box;top: 2em;bottom: 0;left: 50%;}#sk-ca0c5e12-9737-493d-bf75-584938606392 div.sk-serial {display: flex;flex-direction: column;align-items: center;background-color: white;}#sk-ca0c5e12-9737-493d-bf75-584938606392 div.sk-item {z-index: 1;}#sk-ca0c5e12-9737-493d-bf75-584938606392 div.sk-parallel {display: flex;align-items: stretch;justify-content: center;background-color: white;}#sk-ca0c5e12-9737-493d-bf75-584938606392 div.sk-parallel-item {display: flex;flex-direction: column;position: relative;background-color: white;}#sk-ca0c5e12-9737-493d-bf75-584938606392 div.sk-parallel-item:first-child::after {align-self: flex-end;width: 50%;}#sk-ca0c5e12-9737-493d-bf75-584938606392 div.sk-parallel-item:last-child::after {align-self: flex-start;width: 50%;}#sk-ca0c5e12-9737-493d-bf75-584938606392 div.sk-parallel-item:only-child::after {width: 0;}#sk-ca0c5e12-9737-493d-bf75-584938606392 div.sk-dashed-wrapped {border: 1px dashed gray;margin: 0.2em;box-sizing: border-box;padding-bottom: 0.1em;background-color: white;position: relative;}#sk-ca0c5e12-9737-493d-bf75-584938606392 div.sk-label label {font-family: monospace;font-weight: bold;background-color: white;display: inline-block;line-height: 1.2em;}#sk-ca0c5e12-9737-493d-bf75-584938606392 div.sk-label-container {position: relative;z-index: 2;text-align: center;}#sk-ca0c5e12-9737-493d-bf75-584938606392 div.sk-container {display: inline-block;position: relative;}</style><div id=\"sk-ca0c5e12-9737-493d-bf75-584938606392\" class\"sk-top-container\"><div class=\"sk-container\"><div class=\"sk-item\"><div class=\"sk-estimator sk-toggleable\"><input class=\"sk-toggleable__control sk-hidden--visually\" id=\"5e81f7b7-84a9-453c-9938-b32bca381198\" type=\"checkbox\" checked><label class=\"sk-toggleable__label\" for=\"5e81f7b7-84a9-453c-9938-b32bca381198\">DecisionTreeClassifier</label><div class=\"sk-toggleable__content\"><pre>DecisionTreeClassifier()</pre></div></div></div></div></div>"
            ],
            "text/plain": [
              "DecisionTreeClassifier()"
            ]
          },
          "metadata": {},
          "execution_count": 24
        }
      ]
    },
    {
      "cell_type": "markdown",
      "metadata": {
        "id": "iumIY0YNjEDP"
      },
      "source": [
        "### 3- Model features"
      ]
    },
    {
      "cell_type": "code",
      "metadata": {
        "colab": {
          "base_uri": "https://localhost:8080/",
          "height": 35
        },
        "id": "LmljVVFEjH4a",
        "outputId": "e8aaa58c-8339-4a8e-f3fb-ddfa8b3b41da"
      },
      "source": [
        "clf.__class__.__name__"
      ],
      "execution_count": null,
      "outputs": [
        {
          "output_type": "execute_result",
          "data": {
            "application/vnd.google.colaboratory.intrinsic+json": {
              "type": "string"
            },
            "text/plain": [
              "'DecisionTreeClassifier'"
            ]
          },
          "metadata": {},
          "execution_count": 25
        }
      ]
    },
    {
      "cell_type": "markdown",
      "metadata": {
        "id": "E50eqPZ7YdcH"
      },
      "source": [
        "## Evaluation"
      ]
    },
    {
      "cell_type": "markdown",
      "metadata": {
        "id": "VvFJ53IFnoOj"
      },
      "source": [
        "Predict and evaluate model performance on a model. See a list of metrics [here](https://scikit-learn.org/stable/modules/model_evaluation.html)."
      ]
    },
    {
      "cell_type": "markdown",
      "metadata": {
        "id": "N6us3z3CZmxI"
      },
      "source": [
        "### 1- Regression"
      ]
    },
    {
      "cell_type": "code",
      "metadata": {
        "id": "Aows5z6vncTE",
        "colab": {
          "base_uri": "https://localhost:8080/",
          "height": 72
        },
        "outputId": "cc8edda2-488b-4cab-ed4b-728af07785d4"
      },
      "source": [
        "X, y, X_test, y_test = X_train_reg, y_train_reg, X_test_reg, y_test_reg\n",
        "clf = LinearRegression()\n",
        "clf.fit(X, y)"
      ],
      "execution_count": null,
      "outputs": [
        {
          "output_type": "execute_result",
          "data": {
            "text/html": [
              "<style>#sk-c292259c-3ba7-48c7-87e6-90de4812087b {color: black;background-color: white;}#sk-c292259c-3ba7-48c7-87e6-90de4812087b pre{padding: 0;}#sk-c292259c-3ba7-48c7-87e6-90de4812087b div.sk-toggleable {background-color: white;}#sk-c292259c-3ba7-48c7-87e6-90de4812087b label.sk-toggleable__label {cursor: pointer;display: block;width: 100%;margin-bottom: 0;padding: 0.2em 0.3em;box-sizing: border-box;text-align: center;}#sk-c292259c-3ba7-48c7-87e6-90de4812087b div.sk-toggleable__content {max-height: 0;max-width: 0;overflow: hidden;text-align: left;background-color: #f0f8ff;}#sk-c292259c-3ba7-48c7-87e6-90de4812087b div.sk-toggleable__content pre {margin: 0.2em;color: black;border-radius: 0.25em;background-color: #f0f8ff;}#sk-c292259c-3ba7-48c7-87e6-90de4812087b input.sk-toggleable__control:checked~div.sk-toggleable__content {max-height: 200px;max-width: 100%;overflow: auto;}#sk-c292259c-3ba7-48c7-87e6-90de4812087b div.sk-estimator input.sk-toggleable__control:checked~label.sk-toggleable__label {background-color: #d4ebff;}#sk-c292259c-3ba7-48c7-87e6-90de4812087b div.sk-label input.sk-toggleable__control:checked~label.sk-toggleable__label {background-color: #d4ebff;}#sk-c292259c-3ba7-48c7-87e6-90de4812087b input.sk-hidden--visually {border: 0;clip: rect(1px 1px 1px 1px);clip: rect(1px, 1px, 1px, 1px);height: 1px;margin: -1px;overflow: hidden;padding: 0;position: absolute;width: 1px;}#sk-c292259c-3ba7-48c7-87e6-90de4812087b div.sk-estimator {font-family: monospace;background-color: #f0f8ff;margin: 0.25em 0.25em;border: 1px dotted black;border-radius: 0.25em;box-sizing: border-box;}#sk-c292259c-3ba7-48c7-87e6-90de4812087b div.sk-estimator:hover {background-color: #d4ebff;}#sk-c292259c-3ba7-48c7-87e6-90de4812087b div.sk-parallel-item::after {content: \"\";width: 100%;border-bottom: 1px solid gray;flex-grow: 1;}#sk-c292259c-3ba7-48c7-87e6-90de4812087b div.sk-label:hover label.sk-toggleable__label {background-color: #d4ebff;}#sk-c292259c-3ba7-48c7-87e6-90de4812087b div.sk-serial::before {content: \"\";position: absolute;border-left: 1px solid gray;box-sizing: border-box;top: 2em;bottom: 0;left: 50%;}#sk-c292259c-3ba7-48c7-87e6-90de4812087b div.sk-serial {display: flex;flex-direction: column;align-items: center;background-color: white;}#sk-c292259c-3ba7-48c7-87e6-90de4812087b div.sk-item {z-index: 1;}#sk-c292259c-3ba7-48c7-87e6-90de4812087b div.sk-parallel {display: flex;align-items: stretch;justify-content: center;background-color: white;}#sk-c292259c-3ba7-48c7-87e6-90de4812087b div.sk-parallel-item {display: flex;flex-direction: column;position: relative;background-color: white;}#sk-c292259c-3ba7-48c7-87e6-90de4812087b div.sk-parallel-item:first-child::after {align-self: flex-end;width: 50%;}#sk-c292259c-3ba7-48c7-87e6-90de4812087b div.sk-parallel-item:last-child::after {align-self: flex-start;width: 50%;}#sk-c292259c-3ba7-48c7-87e6-90de4812087b div.sk-parallel-item:only-child::after {width: 0;}#sk-c292259c-3ba7-48c7-87e6-90de4812087b div.sk-dashed-wrapped {border: 1px dashed gray;margin: 0.2em;box-sizing: border-box;padding-bottom: 0.1em;background-color: white;position: relative;}#sk-c292259c-3ba7-48c7-87e6-90de4812087b div.sk-label label {font-family: monospace;font-weight: bold;background-color: white;display: inline-block;line-height: 1.2em;}#sk-c292259c-3ba7-48c7-87e6-90de4812087b div.sk-label-container {position: relative;z-index: 2;text-align: center;}#sk-c292259c-3ba7-48c7-87e6-90de4812087b div.sk-container {display: inline-block;position: relative;}</style><div id=\"sk-c292259c-3ba7-48c7-87e6-90de4812087b\" class\"sk-top-container\"><div class=\"sk-container\"><div class=\"sk-item\"><div class=\"sk-estimator sk-toggleable\"><input class=\"sk-toggleable__control sk-hidden--visually\" id=\"65044f2e-c848-4e14-bfcf-2bf7e59bcae9\" type=\"checkbox\" checked><label class=\"sk-toggleable__label\" for=\"65044f2e-c848-4e14-bfcf-2bf7e59bcae9\">LinearRegression</label><div class=\"sk-toggleable__content\"><pre>LinearRegression()</pre></div></div></div></div></div>"
            ],
            "text/plain": [
              "LinearRegression()"
            ]
          },
          "metadata": {},
          "execution_count": 26
        }
      ]
    },
    {
      "cell_type": "code",
      "metadata": {
        "id": "MKIIRFhAdE5K",
        "colab": {
          "base_uri": "https://localhost:8080/"
        },
        "outputId": "d49df58b-db3d-46dd-89b8-5a3797601422"
      },
      "source": [
        "y_pred = clf.predict(X_test)\n",
        "y_pred[:5]"
      ],
      "execution_count": null,
      "outputs": [
        {
          "output_type": "execute_result",
          "data": {
            "text/plain": [
              "array([122.41932407, 111.48365055, 184.18558652,  68.52087272,\n",
              "       171.44221745])"
            ]
          },
          "metadata": {},
          "execution_count": 27
        }
      ]
    },
    {
      "cell_type": "code",
      "metadata": {
        "colab": {
          "base_uri": "https://localhost:8080/"
        },
        "id": "drGhBC-ngAD-",
        "outputId": "db31046b-a8e3-415c-8a03-54da5f50a915"
      },
      "source": [
        "from sklearn.metrics import mean_absolute_error, mean_squared_error\n",
        "\n",
        "MAE = mean_absolute_error(y_test, y_pred).round()\n",
        "MSE = mean_squared_error(y_test, y_pred).round()\n",
        "\n",
        "MAE, MSE"
      ],
      "execution_count": null,
      "outputs": [
        {
          "output_type": "execute_result",
          "data": {
            "text/plain": [
              "(43.0, 3320.0)"
            ]
          },
          "metadata": {},
          "execution_count": 28
        }
      ]
    },
    {
      "cell_type": "code",
      "metadata": {
        "colab": {
          "base_uri": "https://localhost:8080/"
        },
        "id": "tJyBdXyFGBwY",
        "outputId": "6dd937ac-f123-4e75-a129-1d43976a5f89"
      },
      "source": [
        "from sklearn.model_selection import cross_val_score\n",
        "\n",
        "cross_val_score(LinearRegression(), X, y, cv=5, scoring='neg_mean_absolute_error') * -1"
      ],
      "execution_count": null,
      "outputs": [
        {
          "output_type": "execute_result",
          "data": {
            "text/plain": [
              "array([40.93764884, 48.2289054 , 46.57700111, 45.73373047, 43.7460327 ])"
            ]
          },
          "metadata": {},
          "execution_count": 29
        }
      ]
    },
    {
      "cell_type": "markdown",
      "metadata": {
        "id": "Ek-fE0RSeIrW"
      },
      "source": [
        "### 2- Classification"
      ]
    },
    {
      "cell_type": "code",
      "metadata": {
        "colab": {
          "base_uri": "https://localhost:8080/",
          "height": 72
        },
        "id": "Z35I955HeSeb",
        "outputId": "7b89c73d-c3cf-46c8-bc12-9d28e9420327"
      },
      "source": [
        "X, y, X_test, y_test = X_train_cls, y_train_cls, X_test_cls, y_test_cls\n",
        "clf = DecisionTreeClassifier()\n",
        "clf.fit(X, y)"
      ],
      "execution_count": null,
      "outputs": [
        {
          "output_type": "execute_result",
          "data": {
            "text/html": [
              "<style>#sk-c131822f-9bb7-44fb-9281-753f466fee46 {color: black;background-color: white;}#sk-c131822f-9bb7-44fb-9281-753f466fee46 pre{padding: 0;}#sk-c131822f-9bb7-44fb-9281-753f466fee46 div.sk-toggleable {background-color: white;}#sk-c131822f-9bb7-44fb-9281-753f466fee46 label.sk-toggleable__label {cursor: pointer;display: block;width: 100%;margin-bottom: 0;padding: 0.2em 0.3em;box-sizing: border-box;text-align: center;}#sk-c131822f-9bb7-44fb-9281-753f466fee46 div.sk-toggleable__content {max-height: 0;max-width: 0;overflow: hidden;text-align: left;background-color: #f0f8ff;}#sk-c131822f-9bb7-44fb-9281-753f466fee46 div.sk-toggleable__content pre {margin: 0.2em;color: black;border-radius: 0.25em;background-color: #f0f8ff;}#sk-c131822f-9bb7-44fb-9281-753f466fee46 input.sk-toggleable__control:checked~div.sk-toggleable__content {max-height: 200px;max-width: 100%;overflow: auto;}#sk-c131822f-9bb7-44fb-9281-753f466fee46 div.sk-estimator input.sk-toggleable__control:checked~label.sk-toggleable__label {background-color: #d4ebff;}#sk-c131822f-9bb7-44fb-9281-753f466fee46 div.sk-label input.sk-toggleable__control:checked~label.sk-toggleable__label {background-color: #d4ebff;}#sk-c131822f-9bb7-44fb-9281-753f466fee46 input.sk-hidden--visually {border: 0;clip: rect(1px 1px 1px 1px);clip: rect(1px, 1px, 1px, 1px);height: 1px;margin: -1px;overflow: hidden;padding: 0;position: absolute;width: 1px;}#sk-c131822f-9bb7-44fb-9281-753f466fee46 div.sk-estimator {font-family: monospace;background-color: #f0f8ff;margin: 0.25em 0.25em;border: 1px dotted black;border-radius: 0.25em;box-sizing: border-box;}#sk-c131822f-9bb7-44fb-9281-753f466fee46 div.sk-estimator:hover {background-color: #d4ebff;}#sk-c131822f-9bb7-44fb-9281-753f466fee46 div.sk-parallel-item::after {content: \"\";width: 100%;border-bottom: 1px solid gray;flex-grow: 1;}#sk-c131822f-9bb7-44fb-9281-753f466fee46 div.sk-label:hover label.sk-toggleable__label {background-color: #d4ebff;}#sk-c131822f-9bb7-44fb-9281-753f466fee46 div.sk-serial::before {content: \"\";position: absolute;border-left: 1px solid gray;box-sizing: border-box;top: 2em;bottom: 0;left: 50%;}#sk-c131822f-9bb7-44fb-9281-753f466fee46 div.sk-serial {display: flex;flex-direction: column;align-items: center;background-color: white;}#sk-c131822f-9bb7-44fb-9281-753f466fee46 div.sk-item {z-index: 1;}#sk-c131822f-9bb7-44fb-9281-753f466fee46 div.sk-parallel {display: flex;align-items: stretch;justify-content: center;background-color: white;}#sk-c131822f-9bb7-44fb-9281-753f466fee46 div.sk-parallel-item {display: flex;flex-direction: column;position: relative;background-color: white;}#sk-c131822f-9bb7-44fb-9281-753f466fee46 div.sk-parallel-item:first-child::after {align-self: flex-end;width: 50%;}#sk-c131822f-9bb7-44fb-9281-753f466fee46 div.sk-parallel-item:last-child::after {align-self: flex-start;width: 50%;}#sk-c131822f-9bb7-44fb-9281-753f466fee46 div.sk-parallel-item:only-child::after {width: 0;}#sk-c131822f-9bb7-44fb-9281-753f466fee46 div.sk-dashed-wrapped {border: 1px dashed gray;margin: 0.2em;box-sizing: border-box;padding-bottom: 0.1em;background-color: white;position: relative;}#sk-c131822f-9bb7-44fb-9281-753f466fee46 div.sk-label label {font-family: monospace;font-weight: bold;background-color: white;display: inline-block;line-height: 1.2em;}#sk-c131822f-9bb7-44fb-9281-753f466fee46 div.sk-label-container {position: relative;z-index: 2;text-align: center;}#sk-c131822f-9bb7-44fb-9281-753f466fee46 div.sk-container {display: inline-block;position: relative;}</style><div id=\"sk-c131822f-9bb7-44fb-9281-753f466fee46\" class\"sk-top-container\"><div class=\"sk-container\"><div class=\"sk-item\"><div class=\"sk-estimator sk-toggleable\"><input class=\"sk-toggleable__control sk-hidden--visually\" id=\"afb16650-ed3a-4c1d-8d52-d8dffa80268e\" type=\"checkbox\" checked><label class=\"sk-toggleable__label\" for=\"afb16650-ed3a-4c1d-8d52-d8dffa80268e\">DecisionTreeClassifier</label><div class=\"sk-toggleable__content\"><pre>DecisionTreeClassifier()</pre></div></div></div></div></div>"
            ],
            "text/plain": [
              "DecisionTreeClassifier()"
            ]
          },
          "metadata": {},
          "execution_count": 30
        }
      ]
    },
    {
      "cell_type": "code",
      "metadata": {
        "colab": {
          "base_uri": "https://localhost:8080/"
        },
        "id": "LrvoUXfEeiiy",
        "outputId": "177f6567-59e0-4e12-81fe-3dfd338f081e"
      },
      "source": [
        "y_pred = clf.predict(X_test)\n",
        "y_pred[:5]"
      ],
      "execution_count": null,
      "outputs": [
        {
          "output_type": "execute_result",
          "data": {
            "text/plain": [
              "array(['<=50K', '<=50K', '<=50K', '<=50K', '<=50K'], dtype=object)"
            ]
          },
          "metadata": {},
          "execution_count": 31
        }
      ]
    },
    {
      "cell_type": "code",
      "metadata": {
        "colab": {
          "base_uri": "https://localhost:8080/"
        },
        "id": "rbvB_4r9f4XY",
        "outputId": "a788527e-d68e-4a98-e77c-544694e9c66d"
      },
      "source": [
        "from sklearn.metrics import accuracy_score, precision_score, recall_score\n",
        "\n",
        "accuracy = accuracy_score(y_test, y_pred).round(3)  # or: clf.score(X_test, y_test)\n",
        "precision = precision_score(y_test, y_pred, pos_label='>50K').round(3)\n",
        "recall = recall_score(y_test, y_pred, pos_label='>50K').round(3)\n",
        "\n",
        "accuracy, precision, recall"
      ],
      "execution_count": null,
      "outputs": [
        {
          "output_type": "execute_result",
          "data": {
            "text/plain": [
              "(0.801, 0.592, 0.633)"
            ]
          },
          "metadata": {},
          "execution_count": 32
        }
      ]
    },
    {
      "cell_type": "code",
      "metadata": {
        "colab": {
          "base_uri": "https://localhost:8080/"
        },
        "id": "cz6R5F7qH974",
        "outputId": "d77faac8-166c-4539-de2f-7507d801e232"
      },
      "source": [
        "from sklearn.model_selection import cross_val_score\n",
        "\n",
        "cross_val_score(DecisionTreeClassifier(), X, y, cv=5, scoring='accuracy')"
      ],
      "execution_count": null,
      "outputs": [
        {
          "output_type": "execute_result",
          "data": {
            "text/plain": [
              "array([0.81044226, 0.81056511, 0.80614251, 0.80896806, 0.81091043])"
            ]
          },
          "metadata": {},
          "execution_count": 33
        }
      ]
    },
    {
      "cell_type": "markdown",
      "metadata": {
        "id": "YM9BWsk-1szb"
      },
      "source": [
        "## Pipeline"
      ]
    },
    {
      "cell_type": "code",
      "metadata": {
        "id": "H7ayYr4T1uyE"
      },
      "source": [
        "from sklearn.compose import ColumnTransformer\n",
        "from sklearn.pipeline import Pipeline\n",
        "\n",
        "# define columns\n",
        "numerical_cols = X_cls.select_dtypes(exclude='category').columns.tolist()\n",
        "categorical_cols = list(set(X_cls.columns)-set(numerical_cols))\n",
        "\n",
        "# train test split\n",
        "X, X_test, y, y_test = train_test_split(X_cls, y_cls, random_state=0, test_size=0.2)"
      ],
      "execution_count": null,
      "outputs": []
    },
    {
      "cell_type": "code",
      "metadata": {
        "colab": {
          "base_uri": "https://localhost:8080/"
        },
        "id": "nEksk6HdAhkJ",
        "outputId": "102d6340-506b-4bbc-f1ea-87f6119afb74"
      },
      "source": [
        "# Preprocessing for numerical data\n",
        "numerical_transformer = SimpleImputer(strategy='median')\n",
        "\n",
        "# Preprocessing for categorical data\n",
        "categorical_transformer = Pipeline(steps=[\n",
        "    ('imputer', SimpleImputer(strategy='most_frequent')),\n",
        "    ('onehot', OneHotEncoder(handle_unknown='ignore'))\n",
        "])\n",
        "\n",
        "# Bundle preprocessing for numerical and categorical data\n",
        "preprocessor = ColumnTransformer(\n",
        "    transformers=[\n",
        "        ('Numerical', numerical_transformer, numerical_cols),\n",
        "        ('Categorical', categorical_transformer, categorical_cols)\n",
        "    ])\n",
        "\n",
        "# Define model\n",
        "model = DecisionTreeClassifier()\n",
        "\n",
        "# Bundle preprocessing and modeling code in a pipeline\n",
        "clf = Pipeline(steps=[('preprocessor', preprocessor),\n",
        "                      ('model', model)\n",
        "                     ])\n",
        "\n",
        "# Cross validation scores\n",
        "cross_val_score(clf, X, y, cv=5, scoring='accuracy')"
      ],
      "execution_count": null,
      "outputs": [
        {
          "output_type": "execute_result",
          "data": {
            "text/plain": [
              "array([0.80085683, 0.81329464, 0.81617139, 0.80939876, 0.81630961])"
            ]
          },
          "metadata": {},
          "execution_count": 35
        }
      ]
    },
    {
      "cell_type": "code",
      "metadata": {
        "colab": {
          "base_uri": "https://localhost:8080/",
          "height": 199
        },
        "id": "XbsF1_vAJTEQ",
        "outputId": "a548beeb-02e7-40a4-a958-88dac466304e"
      },
      "source": [
        "# Preprocessing of training data, fit model\n",
        "clf.fit(X, y)"
      ],
      "execution_count": null,
      "outputs": [
        {
          "output_type": "execute_result",
          "data": {
            "text/html": [
              "<style>#sk-836b6c64-ae2a-42c2-928e-595ed441df55 {color: black;background-color: white;}#sk-836b6c64-ae2a-42c2-928e-595ed441df55 pre{padding: 0;}#sk-836b6c64-ae2a-42c2-928e-595ed441df55 div.sk-toggleable {background-color: white;}#sk-836b6c64-ae2a-42c2-928e-595ed441df55 label.sk-toggleable__label {cursor: pointer;display: block;width: 100%;margin-bottom: 0;padding: 0.2em 0.3em;box-sizing: border-box;text-align: center;}#sk-836b6c64-ae2a-42c2-928e-595ed441df55 div.sk-toggleable__content {max-height: 0;max-width: 0;overflow: hidden;text-align: left;background-color: #f0f8ff;}#sk-836b6c64-ae2a-42c2-928e-595ed441df55 div.sk-toggleable__content pre {margin: 0.2em;color: black;border-radius: 0.25em;background-color: #f0f8ff;}#sk-836b6c64-ae2a-42c2-928e-595ed441df55 input.sk-toggleable__control:checked~div.sk-toggleable__content {max-height: 200px;max-width: 100%;overflow: auto;}#sk-836b6c64-ae2a-42c2-928e-595ed441df55 div.sk-estimator input.sk-toggleable__control:checked~label.sk-toggleable__label {background-color: #d4ebff;}#sk-836b6c64-ae2a-42c2-928e-595ed441df55 div.sk-label input.sk-toggleable__control:checked~label.sk-toggleable__label {background-color: #d4ebff;}#sk-836b6c64-ae2a-42c2-928e-595ed441df55 input.sk-hidden--visually {border: 0;clip: rect(1px 1px 1px 1px);clip: rect(1px, 1px, 1px, 1px);height: 1px;margin: -1px;overflow: hidden;padding: 0;position: absolute;width: 1px;}#sk-836b6c64-ae2a-42c2-928e-595ed441df55 div.sk-estimator {font-family: monospace;background-color: #f0f8ff;margin: 0.25em 0.25em;border: 1px dotted black;border-radius: 0.25em;box-sizing: border-box;}#sk-836b6c64-ae2a-42c2-928e-595ed441df55 div.sk-estimator:hover {background-color: #d4ebff;}#sk-836b6c64-ae2a-42c2-928e-595ed441df55 div.sk-parallel-item::after {content: \"\";width: 100%;border-bottom: 1px solid gray;flex-grow: 1;}#sk-836b6c64-ae2a-42c2-928e-595ed441df55 div.sk-label:hover label.sk-toggleable__label {background-color: #d4ebff;}#sk-836b6c64-ae2a-42c2-928e-595ed441df55 div.sk-serial::before {content: \"\";position: absolute;border-left: 1px solid gray;box-sizing: border-box;top: 2em;bottom: 0;left: 50%;}#sk-836b6c64-ae2a-42c2-928e-595ed441df55 div.sk-serial {display: flex;flex-direction: column;align-items: center;background-color: white;}#sk-836b6c64-ae2a-42c2-928e-595ed441df55 div.sk-item {z-index: 1;}#sk-836b6c64-ae2a-42c2-928e-595ed441df55 div.sk-parallel {display: flex;align-items: stretch;justify-content: center;background-color: white;}#sk-836b6c64-ae2a-42c2-928e-595ed441df55 div.sk-parallel-item {display: flex;flex-direction: column;position: relative;background-color: white;}#sk-836b6c64-ae2a-42c2-928e-595ed441df55 div.sk-parallel-item:first-child::after {align-self: flex-end;width: 50%;}#sk-836b6c64-ae2a-42c2-928e-595ed441df55 div.sk-parallel-item:last-child::after {align-self: flex-start;width: 50%;}#sk-836b6c64-ae2a-42c2-928e-595ed441df55 div.sk-parallel-item:only-child::after {width: 0;}#sk-836b6c64-ae2a-42c2-928e-595ed441df55 div.sk-dashed-wrapped {border: 1px dashed gray;margin: 0.2em;box-sizing: border-box;padding-bottom: 0.1em;background-color: white;position: relative;}#sk-836b6c64-ae2a-42c2-928e-595ed441df55 div.sk-label label {font-family: monospace;font-weight: bold;background-color: white;display: inline-block;line-height: 1.2em;}#sk-836b6c64-ae2a-42c2-928e-595ed441df55 div.sk-label-container {position: relative;z-index: 2;text-align: center;}#sk-836b6c64-ae2a-42c2-928e-595ed441df55 div.sk-container {display: inline-block;position: relative;}</style><div id=\"sk-836b6c64-ae2a-42c2-928e-595ed441df55\" class\"sk-top-container\"><div class=\"sk-container\"><div class=\"sk-item sk-dashed-wrapped\"><div class=\"sk-label-container\"><div class=\"sk-label sk-toggleable\"><input class=\"sk-toggleable__control sk-hidden--visually\" id=\"6b1c553c-ed1b-48f2-9137-6d37f75585b2\" type=\"checkbox\" ><label class=\"sk-toggleable__label\" for=\"6b1c553c-ed1b-48f2-9137-6d37f75585b2\">Pipeline</label><div class=\"sk-toggleable__content\"><pre>Pipeline(steps=[('preprocessor',\n",
              "                 ColumnTransformer(transformers=[('Numerical',\n",
              "                                                  SimpleImputer(strategy='median'),\n",
              "                                                  ['age', 'fnlwgt',\n",
              "                                                   'education-num',\n",
              "                                                   'capital-gain',\n",
              "                                                   'capital-loss',\n",
              "                                                   'hours-per-week']),\n",
              "                                                 ('Categorical',\n",
              "                                                  Pipeline(steps=[('imputer',\n",
              "                                                                   SimpleImputer(strategy='most_frequent')),\n",
              "                                                                  ('onehot',\n",
              "                                                                   OneHotEncoder(handle_unknown='ignore'))]),\n",
              "                                                  ['workclass', 'education',\n",
              "                                                   'race', 'marital-status',\n",
              "                                                   'relationship',\n",
              "                                                   'native-country',\n",
              "                                                   'occupation', 'sex'])])),\n",
              "                ('model', DecisionTreeClassifier())])</pre></div></div></div><div class=\"sk-serial\"><div class=\"sk-item sk-dashed-wrapped\"><div class=\"sk-label-container\"><div class=\"sk-label sk-toggleable\"><input class=\"sk-toggleable__control sk-hidden--visually\" id=\"71447e43-7aed-43a7-8ba2-5f6930207925\" type=\"checkbox\" ><label class=\"sk-toggleable__label\" for=\"71447e43-7aed-43a7-8ba2-5f6930207925\">preprocessor: ColumnTransformer</label><div class=\"sk-toggleable__content\"><pre>ColumnTransformer(transformers=[('Numerical', SimpleImputer(strategy='median'),\n",
              "                                 ['age', 'fnlwgt', 'education-num',\n",
              "                                  'capital-gain', 'capital-loss',\n",
              "                                  'hours-per-week']),\n",
              "                                ('Categorical',\n",
              "                                 Pipeline(steps=[('imputer',\n",
              "                                                  SimpleImputer(strategy='most_frequent')),\n",
              "                                                 ('onehot',\n",
              "                                                  OneHotEncoder(handle_unknown='ignore'))]),\n",
              "                                 ['workclass', 'education', 'race',\n",
              "                                  'marital-status', 'relationship',\n",
              "                                  'native-country', 'occupation', 'sex'])])</pre></div></div></div><div class=\"sk-parallel\"><div class=\"sk-parallel-item\"><div class=\"sk-item\"><div class=\"sk-label-container\"><div class=\"sk-label sk-toggleable\"><input class=\"sk-toggleable__control sk-hidden--visually\" id=\"a6285e68-8e60-4eac-9464-66a9382374e9\" type=\"checkbox\" ><label class=\"sk-toggleable__label\" for=\"a6285e68-8e60-4eac-9464-66a9382374e9\">Numerical</label><div class=\"sk-toggleable__content\"><pre>['age', 'fnlwgt', 'education-num', 'capital-gain', 'capital-loss', 'hours-per-week']</pre></div></div></div><div class=\"sk-serial\"><div class=\"sk-item\"><div class=\"sk-estimator sk-toggleable\"><input class=\"sk-toggleable__control sk-hidden--visually\" id=\"69119cda-e109-48ab-8eac-2bcb4e23362e\" type=\"checkbox\" ><label class=\"sk-toggleable__label\" for=\"69119cda-e109-48ab-8eac-2bcb4e23362e\">SimpleImputer</label><div class=\"sk-toggleable__content\"><pre>SimpleImputer(strategy='median')</pre></div></div></div></div></div></div><div class=\"sk-parallel-item\"><div class=\"sk-item\"><div class=\"sk-label-container\"><div class=\"sk-label sk-toggleable\"><input class=\"sk-toggleable__control sk-hidden--visually\" id=\"cd08187d-9a58-4fd8-a8be-4d365b44635c\" type=\"checkbox\" ><label class=\"sk-toggleable__label\" for=\"cd08187d-9a58-4fd8-a8be-4d365b44635c\">Categorical</label><div class=\"sk-toggleable__content\"><pre>['workclass', 'education', 'race', 'marital-status', 'relationship', 'native-country', 'occupation', 'sex']</pre></div></div></div><div class=\"sk-serial\"><div class=\"sk-item\"><div class=\"sk-serial\"><div class=\"sk-item\"><div class=\"sk-estimator sk-toggleable\"><input class=\"sk-toggleable__control sk-hidden--visually\" id=\"3f18fd4d-bb33-417d-80b3-8100c5bb103c\" type=\"checkbox\" ><label class=\"sk-toggleable__label\" for=\"3f18fd4d-bb33-417d-80b3-8100c5bb103c\">SimpleImputer</label><div class=\"sk-toggleable__content\"><pre>SimpleImputer(strategy='most_frequent')</pre></div></div></div><div class=\"sk-item\"><div class=\"sk-estimator sk-toggleable\"><input class=\"sk-toggleable__control sk-hidden--visually\" id=\"05c54c97-8f79-49f5-a97e-9c2293ad8034\" type=\"checkbox\" ><label class=\"sk-toggleable__label\" for=\"05c54c97-8f79-49f5-a97e-9c2293ad8034\">OneHotEncoder</label><div class=\"sk-toggleable__content\"><pre>OneHotEncoder(handle_unknown='ignore')</pre></div></div></div></div></div></div></div></div></div></div><div class=\"sk-item\"><div class=\"sk-estimator sk-toggleable\"><input class=\"sk-toggleable__control sk-hidden--visually\" id=\"76be0dab-e8d2-4193-9733-058e00941da1\" type=\"checkbox\" ><label class=\"sk-toggleable__label\" for=\"76be0dab-e8d2-4193-9733-058e00941da1\">DecisionTreeClassifier</label><div class=\"sk-toggleable__content\"><pre>DecisionTreeClassifier()</pre></div></div></div></div></div></div></div>"
            ],
            "text/plain": [
              "Pipeline(steps=[('preprocessor',\n",
              "                 ColumnTransformer(transformers=[('Numerical',\n",
              "                                                  SimpleImputer(strategy='median'),\n",
              "                                                  ['age', 'fnlwgt',\n",
              "                                                   'education-num',\n",
              "                                                   'capital-gain',\n",
              "                                                   'capital-loss',\n",
              "                                                   'hours-per-week']),\n",
              "                                                 ('Categorical',\n",
              "                                                  Pipeline(steps=[('imputer',\n",
              "                                                                   SimpleImputer(strategy='most_frequent')),\n",
              "                                                                  ('onehot',\n",
              "                                                                   OneHotEncoder(handle_unknown='ignore'))]),\n",
              "                                                  ['workclass', 'education',\n",
              "                                                   'race', 'marital-status',\n",
              "                                                   'relationship',\n",
              "                                                   'native-country',\n",
              "                                                   'occupation', 'sex'])])),\n",
              "                ('model', DecisionTreeClassifier())])"
            ]
          },
          "metadata": {},
          "execution_count": 36
        }
      ]
    },
    {
      "cell_type": "code",
      "metadata": {
        "colab": {
          "base_uri": "https://localhost:8080/"
        },
        "id": "YUWkSF54AkJc",
        "outputId": "d7e4f25f-9ba1-4a8d-85df-cda5d313d19e"
      },
      "source": [
        "# Preprocessing of validation data, get predictions\n",
        "y_pred = clf.predict(X_test)\n",
        "accuracy_score(y_test, y_pred).round(3)"
      ],
      "execution_count": null,
      "outputs": [
        {
          "output_type": "execute_result",
          "data": {
            "text/plain": [
              "0.805"
            ]
          },
          "metadata": {},
          "execution_count": 37
        }
      ]
    }
  ]
}